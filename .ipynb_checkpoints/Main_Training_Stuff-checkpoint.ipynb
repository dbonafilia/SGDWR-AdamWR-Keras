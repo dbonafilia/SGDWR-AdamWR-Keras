{
 "cells": [
  {
   "cell_type": "markdown",
   "metadata": {
    "colab_type": "text",
    "id": "view-in-github"
   },
   "source": [
    "<a href=\"https://colab.research.google.com/github/dbonafilia/SGDWR-AdamWR-Keras/blob/master/Main_Training_Stuff.ipynb\" target=\"_parent\"><img src=\"https://colab.research.google.com/assets/colab-badge.svg\" alt=\"Open In Colab\"/></a>"
   ]
  },
  {
   "cell_type": "code",
   "execution_count": 58,
   "metadata": {
    "colab": {},
    "colab_type": "code",
    "id": "KaTdYzzy2E2K"
   },
   "outputs": [],
   "source": [
    "LR = 1e-3\n",
    "EPOCHS = 1000\n",
    "EPOCHS_PER_UPDATE = 1\n",
    "RUNNAME = \"1e3_flood_0\""
   ]
  },
  {
   "cell_type": "code",
   "execution_count": 3,
   "metadata": {},
   "outputs": [
    {
     "name": "stdout",
     "output_type": "stream",
     "text": [
      "/home\n"
     ]
    }
   ],
   "source": [
    "cd /home"
   ]
  },
  {
   "cell_type": "code",
   "execution_count": 2,
   "metadata": {
    "colab": {},
    "colab_type": "code",
    "id": "0rKXiKodtzk_"
   },
   "outputs": [],
   "source": [
    "import torch\n",
    "from torchvision import transforms\n",
    "import torchvision.transforms.functional as F\n",
    "import random\n",
    "\n",
    "class InMemoryDataset(torch.utils.data.Dataset):\n",
    "  \n",
    "  def __init__(self, data_list, preprocess_func):\n",
    "    self.data_list = data_list\n",
    "    self.preprocess_func = preprocess_func\n",
    "  \n",
    "  def __getitem__(self, i):\n",
    "    return self.preprocess_func(self.data_list[i])\n",
    "  \n",
    "  def __len__(self):\n",
    "    return len(self.data_list)\n",
    "\n",
    "\n",
    "def processAndAugment(data):\n",
    "  (x,y) = data\n",
    "  im,label = x.copy(), y.copy()\n",
    "\n",
    "  # convert to PIL for easier transforms\n",
    "  im1 = Image.fromarray(im[0])\n",
    "  im2 = Image.fromarray(im[1])\n",
    "  label = Image.fromarray(label.squeeze())\n",
    "\n",
    "  # Get params for random transforms\n",
    "  i, j, h, w = transforms.RandomCrop.get_params(im1, (256, 256))\n",
    "  \n",
    "  im1 = F.crop(im1, i, j, h, w)\n",
    "  im2 = F.crop(im2, i, j, h, w)\n",
    "  label = F.crop(label, i, j, h, w)\n",
    "  if random.random() > 0.5:\n",
    "    im1 = F.hflip(im1)\n",
    "    im2 = F.hflip(im2)\n",
    "    label = F.hflip(label)\n",
    "  if random.random() > 0.5:\n",
    "    im1 = F.vflip(im1)\n",
    "    im2 = F.vflip(im2)\n",
    "    label = F.vflip(label)\n",
    "  \n",
    "  norm = transforms.Normalize([0.6851, 0.5235], [0.0820, 0.1102])\n",
    "  im = torch.stack([transforms.ToTensor()(im1).squeeze(), transforms.ToTensor()(im2).squeeze()])\n",
    "  im = norm(im)\n",
    "  label = transforms.ToTensor()(label).squeeze()\n",
    "  if torch.sum(label.gt(.003) * label.lt(.004)):\n",
    "    label *= 255\n",
    "  label = label.round()\n",
    "\n",
    "  return im, label\n",
    "\n",
    "\n",
    "def processTestIm(data):\n",
    "  (x,y) = data\n",
    "  im,label = x.copy(), y.copy()\n",
    "  norm = transforms.Normalize([0.6851, 0.5235], [0.0820, 0.1102])\n",
    "  #label[0][0][0] = 255\n",
    "  # convert to PIL for easier transforms\n",
    "  im_c1 = Image.fromarray(im[0]).resize((512,512))\n",
    "  im_c2 = Image.fromarray(im[1]).resize((512,512))\n",
    "  label = Image.fromarray(label.squeeze()).resize((512,512))\n",
    "\n",
    "  im_c1s = [F.crop(im_c1, 0, 0, 256, 256), F.crop(im_c1, 0, 256, 256, 256),\n",
    "            F.crop(im_c1, 256, 0, 256, 256), F.crop(im_c1, 256, 256, 256, 256)]\n",
    "  im_c2s = [F.crop(im_c2, 0, 0, 256, 256), F.crop(im_c2, 0, 256, 256, 256),\n",
    "            F.crop(im_c2, 256, 0, 256, 256), F.crop(im_c2, 256, 256, 256, 256)]\n",
    "  labels = [F.crop(label, 0, 0, 256, 256), F.crop(label, 0, 256, 256, 256),\n",
    "            F.crop(label, 256, 0, 256, 256), F.crop(label, 256, 256, 256, 256)]\n",
    "\n",
    "\n",
    "  ims = [torch.stack((transforms.ToTensor()(x).squeeze(),\n",
    "                    transforms.ToTensor()(y).squeeze()))\n",
    "                    for (x,y) in zip(im_c1s, im_c2s)]\n",
    "  ims = [norm(im) for im in ims]\n",
    "  ims = torch.stack(ims)\n",
    "  labels = [(transforms.ToTensor()(label).squeeze()) for label in labels]\n",
    "  labels = torch.stack(labels)\n",
    "  if torch.sum(labels.gt(.003) * labels.lt(.004)):\n",
    "    labels *= 255\n",
    "  labels = labels.round()\n",
    "  return ims, labels\n"
   ]
  },
  {
   "cell_type": "markdown",
   "metadata": {
    "colab_type": "text",
    "id": "ImyxBVt52HnH"
   },
   "source": [
    "Read in Data"
   ]
  },
  {
   "cell_type": "code",
   "execution_count": 14,
   "metadata": {
    "colab": {
     "base_uri": "https://localhost:8080/",
     "height": 190
    },
    "colab_type": "code",
    "id": "AcdNIUJyw11-",
    "outputId": "8cd3000e-33f8-49e2-b470-58362c763e0f"
   },
   "outputs": [
    {
     "name": "stdout",
     "output_type": "stream",
     "text": [
      "Requirement already satisfied: rasterio in /opt/conda/lib/python3.7/site-packages (1.1.3)\n",
      "Requirement already satisfied: snuggs>=1.4.1 in /opt/conda/lib/python3.7/site-packages (from rasterio) (1.4.7)\n",
      "Requirement already satisfied: numpy in /opt/conda/lib/python3.7/site-packages (from rasterio) (1.18.1)\n",
      "Requirement already satisfied: click-plugins in /opt/conda/lib/python3.7/site-packages (from rasterio) (1.1.1)\n",
      "Requirement already satisfied: affine in /opt/conda/lib/python3.7/site-packages (from rasterio) (2.3.0)\n",
      "Requirement already satisfied: click<8,>=4.0 in /opt/conda/lib/python3.7/site-packages (from rasterio) (7.0)\n",
      "Requirement already satisfied: cligj>=0.5 in /opt/conda/lib/python3.7/site-packages (from rasterio) (0.5.0)\n",
      "Requirement already satisfied: attrs in /opt/conda/lib/python3.7/site-packages (from rasterio) (19.3.0)\n",
      "Requirement already satisfied: pyparsing>=2.1.6 in /opt/conda/lib/python3.7/site-packages (from snuggs>=1.4.1->rasterio) (2.4.6)\n"
     ]
    }
   ],
   "source": [
    "!pip install rasterio"
   ]
  },
  {
   "cell_type": "code",
   "execution_count": 4,
   "metadata": {
    "colab": {},
    "colab_type": "code",
    "id": "eQqagN7vu7jx"
   },
   "outputs": [],
   "source": [
    "import csv\n",
    "from PIL import Image\n",
    "import rasterio\n",
    "import numpy as np\n",
    "import os\n",
    "BASEDIR = ''\n",
    "\n",
    "def getArr(fname):\n",
    "  return rasterio.open(BASEDIR + fname).read()\n",
    "\n",
    "\n",
    "def download_perm_water_data_from_file(fname):\n",
    "  with open(fname) as f:\n",
    "    data_fnames = [tuple(line) for line in csv.reader(f)]\n",
    "  i = 0\n",
    "  data = []\n",
    "  for (x,y) in data_fnames:\n",
    "    arr_x, arr_y = getArr(x), getArr(y)\n",
    "    if np.sum((arr_x != arr_x)) == 0:\n",
    "      ignore = (arr_y == -1)\n",
    "      ignore = ((np.uint8(ignore) * -1) * 256) + 1\n",
    "      arr_y *= ignore\n",
    "      data.append((arr_x, arr_y))\n",
    "      i+=1\n",
    "      print(i)\n",
    "    else:\n",
    "      print(\"skipping nan\")\n",
    "  return data\n",
    "\n",
    "def download_perm_train_data():\n",
    "  TRAINING_DATA_FILE = BASEDIR + 'permanent_water_train_data.csv'\n",
    "  return download_perm_water_data_from_file(TRAINING_DATA_FILE)\n",
    "\n",
    "def download_perm_valid_data():\n",
    "  VALID_DATA_FILE = BASEDIR + 'permanent_water_validation_data.csv'\n",
    "  return download_perm_water_data_from_file(VALID_DATA_FILE)\n",
    "\n",
    "def download_perm_test_data():\n",
    "  TEST_DATA_FILE = BASEDIR + 'permanent_water_test_data.csv'\n",
    "  return download_perm_water_data_from_file(TEST_DATA_FILE)\n"
   ]
  },
  {
   "cell_type": "code",
   "execution_count": 16,
   "metadata": {},
   "outputs": [],
   "source": [
    "#!sudo mkdir files3/S1"
   ]
  },
  {
   "cell_type": "code",
   "execution_count": 17,
   "metadata": {},
   "outputs": [],
   "source": [
    "#!gsutil -m rsync gs://cnn_chips/S1 files3/S1"
   ]
  },
  {
   "cell_type": "code",
   "execution_count": 18,
   "metadata": {},
   "outputs": [],
   "source": [
    "#!gsutil -m rsync gs://cnn_chips/NoQC files3/NoQC"
   ]
  },
  {
   "cell_type": "code",
   "execution_count": 19,
   "metadata": {
    "colab": {
     "base_uri": "https://localhost:8080/",
     "height": 422
    },
    "colab_type": "code",
    "id": "j3MLJOeivXBG",
    "outputId": "54903c68-a576-4edc-ad6c-21623e327429"
   },
   "outputs": [],
   "source": [
    "#!echo \"deb http://packages.cloud.google.com/apt gcsfuse-bionic main\" > /etc/apt/sources.list.d/gcsfuse.list\n",
    "#!curl https://packages.cloud.google.com/apt/doc/apt-key.gpg | apt-key add -\n",
    "#!apt -qq update\n",
    "#!apt -qq install gcsfuse\n",
    "\n",
    "#!sudo mkdir files4\n",
    "#!gcsfuse --implicit-dirs cnn_chips files4\n",
    "\n"
   ]
  },
  {
   "cell_type": "code",
   "execution_count": 26,
   "metadata": {
    "colab": {},
    "colab_type": "code",
    "id": "ZjFk6FlhHAR4"
   },
   "outputs": [],
   "source": [
    "from time import time\n",
    "\n",
    "def getArrFlood(fname):\n",
    "  return rasterio.open(fname).read()\n",
    "\n",
    "def download_flood_water_data_from_list(l):\n",
    "  print(\"WHYYYYY\")\n",
    "  i= 0\n",
    "  tot_nan = 0\n",
    "  tot_good = 0\n",
    "  flood_data = []\n",
    "  for (im_fname, mask_fname) in l:\n",
    "    if not os.path.exists(os.path.join(\"files3/\", im_fname)):\n",
    "      print(os.path.join(\"files3/\", im_fname))\n",
    "      continue\n",
    "    arr_x = np.nan_to_num(getArrFlood(os.path.join(\"files3/\", im_fname)))\n",
    "    arr_y = getArrFlood(os.path.join(\"files3/\", mask_fname))\n",
    "    ignore = (arr_y == -1)\n",
    "    ignore = ((np.uint8(ignore) * -1) * 256) + 1\n",
    "    arr_y *= ignore\n",
    "    arr_y = np.uint8(getArrFlood(os.path.join(\"files3/\", mask_fname)))\n",
    "    if np.sum((arr_y != arr_y)) == 0:\n",
    "      arr_x = np.clip(arr_x, -50, 1)\n",
    "      arr_x = (arr_x + 50) / 51\n",
    "      if i % 100 == 0:\n",
    "        print(i)\n",
    "        print(im_fname, mask_fname)\n",
    "      i += 1\n",
    "      flood_data.append((arr_x,arr_y))\n",
    "    else:\n",
    "      print(\"skipping nan\")\n",
    "  print(i)\n",
    "  return flood_data\n",
    "\n",
    "\n",
    "def load_flood_train_data():\n",
    "  basedir = \"files4/\"\n",
    "  fname = \"files3/flood_train_data.csv\"\n",
    "  with open(fname) as f:\n",
    "    fname = [tuple(line) for line in csv.reader(f)]\n",
    "  return download_flood_water_data_from_list(fname)\n",
    "\n",
    "def load_weak_flood_train_data():\n",
    "  basedir = \"files4/\"\n",
    "  print(\"what the fu\")\n",
    "  files = [(os.path.join(\"S1_NoQC\", x[1]), os.path.join(\"NoQC\", x[0])) for x in zip(sorted(os.listdir(\"files3/NoQC\")), sorted(os.listdir(\"files3/S1_NoQC\")))]\n",
    "  files = [x for x in files if \"Bolivia\" not in x[0]]\n",
    "  print(files[0:10])\n",
    "  return download_flood_water_data_from_list(files)\n",
    "\n",
    "def load_flood_valid_data():\n",
    "  basedir = \"files4/\"\n",
    "  fname = \"files3/flood_valid_data.csv\"\n",
    "  with open(fname) as f:\n",
    "    fname = [tuple(line) for line in csv.reader(f)]\n",
    "  print(fname, \"files!\")\n",
    "  return download_flood_water_data_from_list(fname)\n",
    "\n",
    "def load_flood_test_data():\n",
    "  basedir = \"files4/\"\n",
    "  fname = \"files3/flood_test_data.csv\"\n",
    "  with open(fname) as f:\n",
    "    fname = [tuple(line) for line in csv.reader(f)]\n",
    "  return download_flood_water_data_from_list(fname)\n",
    "\n",
    "def load_flood_bolivia_test_data():\n",
    "  basedir = \"files4/\"\n",
    "  fname = \"files3/flood_bolivia_data.csv\"\n",
    "  with open(fname) as f:\n",
    "    fname = [tuple(line) for line in csv.reader(f)]\n",
    "  return download_flood_water_data_from_list(fname)\n",
    "\n",
    "\n"
   ]
  },
  {
   "cell_type": "code",
   "execution_count": 6,
   "metadata": {
    "colab": {
     "base_uri": "https://localhost:8080/",
     "height": 34
    },
    "colab_type": "code",
    "id": "9HN-ar8v9Wfo",
    "outputId": "93993cb0-f4e6-4ff1-9c66-9cd50d77c8a6"
   },
   "outputs": [
    {
     "name": "stdout",
     "output_type": "stream",
     "text": [
      "/home\n"
     ]
    }
   ],
   "source": [
    "cd ../../"
   ]
  },
  {
   "cell_type": "code",
   "execution_count": 6,
   "metadata": {
    "colab": {
     "base_uri": "https://localhost:8080/",
     "height": 1000
    },
    "colab_type": "code",
    "id": "8kCCtfs7ULx_",
    "outputId": "4c5f0e83-27b2-4fd1-c11a-326fd238197a"
   },
   "outputs": [
    {
     "name": "stdout",
     "output_type": "stream",
     "text": [
      "what the fu\n",
      "[('S1_NoQC/Colombia_1031391_S1.tif', 'NoQC/Colombia_1031391_NoQC.tif'), ('S1_NoQC/Colombia_1066537_S1.tif', 'NoQC/Colombia_1066537_NoQC.tif'), ('S1_NoQC/Colombia_1100403_S1.tif', 'NoQC/Colombia_1100403_NoQC.tif'), ('S1_NoQC/Colombia_1112738_S1.tif', 'NoQC/Colombia_1112738_NoQC.tif'), ('S1_NoQC/Colombia_1115783_S1.tif', 'NoQC/Colombia_1115783_NoQC.tif'), ('S1_NoQC/Colombia_1118446_S1.tif', 'NoQC/Colombia_1118446_NoQC.tif'), ('S1_NoQC/Colombia_1131006_S1.tif', 'NoQC/Colombia_1131006_NoQC.tif'), ('S1_NoQC/Colombia_1150362_S1.tif', 'NoQC/Colombia_1150362_NoQC.tif'), ('S1_NoQC/Colombia_1175789_S1.tif', 'NoQC/Colombia_1175789_NoQC.tif'), ('S1_NoQC/Colombia_1178681_S1.tif', 'NoQC/Colombia_1178681_NoQC.tif')]\n",
      "WHYYYYY\n",
      "0\n",
      "S1_NoQC/Colombia_1031391_S1.tif NoQC/Colombia_1031391_NoQC.tif\n",
      "100\n",
      "S1_NoQC/Colombia_264490_S1.tif NoQC/Colombia_264490_NoQC.tif\n",
      "200\n",
      "S1_NoQC/Colombia_4436728_S1.tif NoQC/Colombia_4436728_NoQC.tif\n",
      "300\n",
      "S1_NoQC/Colombia_6145709_S1.tif NoQC/Colombia_6145709_NoQC.tif\n",
      "400\n",
      "S1_NoQC/Colombia_7838750_S1.tif NoQC/Colombia_7838750_NoQC.tif\n",
      "500\n",
      "S1_NoQC/Colombia_9342885_S1.tif NoQC/Colombia_9342885_NoQC.tif\n",
      "600\n",
      "S1_NoQC/Ghana_3646169_S1.tif NoQC/Ghana_3646169_NoQC.tif\n",
      "700\n",
      "S1_NoQC/Ghana_9044906_S1.tif NoQC/Ghana_9044906_NoQC.tif\n",
      "800\n",
      "S1_NoQC/India_2774101_S1.tif NoQC/India_2774101_NoQC.tif\n",
      "900\n",
      "S1_NoQC/India_4735400_S1.tif NoQC/India_4735400_NoQC.tif\n",
      "1000\n",
      "S1_NoQC/India_6646816_S1.tif NoQC/India_6646816_NoQC.tif\n",
      "1100\n",
      "S1_NoQC/India_8390255_S1.tif NoQC/India_8390255_NoQC.tif\n",
      "1200\n",
      "S1_NoQC/Mekong_1100220_S1.tif NoQC/Mekong_1100220_NoQC.tif\n",
      "1300\n",
      "S1_NoQC/Mekong_1808547_S1.tif NoQC/Mekong_1808547_NoQC.tif\n",
      "1400\n",
      "S1_NoQC/Mekong_250064_S1.tif NoQC/Mekong_250064_NoQC.tif\n",
      "1500\n",
      "S1_NoQC/Mekong_3218845_S1.tif NoQC/Mekong_3218845_NoQC.tif\n",
      "1600\n",
      "S1_NoQC/Mekong_3757783_S1.tif NoQC/Mekong_3757783_NoQC.tif\n",
      "1700\n",
      "S1_NoQC/Mekong_4501244_S1.tif NoQC/Mekong_4501244_NoQC.tif\n",
      "1800\n",
      "S1_NoQC/Mekong_5198691_S1.tif NoQC/Mekong_5198691_NoQC.tif\n",
      "1900\n",
      "S1_NoQC/Mekong_5792745_S1.tif NoQC/Mekong_5792745_NoQC.tif\n",
      "2000\n",
      "S1_NoQC/Mekong_6420382_S1.tif NoQC/Mekong_6420382_NoQC.tif\n",
      "2100\n",
      "S1_NoQC/Mekong_7111124_S1.tif NoQC/Mekong_7111124_NoQC.tif\n",
      "2200\n",
      "S1_NoQC/Mekong_7694776_S1.tif NoQC/Mekong_7694776_NoQC.tif\n",
      "2300\n",
      "S1_NoQC/Mekong_8307611_S1.tif NoQC/Mekong_8307611_NoQC.tif\n",
      "2400\n",
      "S1_NoQC/Mekong_8995985_S1.tif NoQC/Mekong_8995985_NoQC.tif\n",
      "2500\n",
      "S1_NoQC/Mekong_9792252_S1.tif NoQC/Mekong_9792252_NoQC.tif\n",
      "2600\n",
      "S1_NoQC/Nigeria_6657550_S1.tif NoQC/Nigeria_6657550_NoQC.tif\n",
      "2700\n",
      "S1_NoQC/Pakistan_2895699_S1.tif NoQC/Pakistan_2895699_NoQC.tif\n",
      "2800\n",
      "S1_NoQC/Pakistan_6658443_S1.tif NoQC/Pakistan_6658443_NoQC.tif\n",
      "2900\n",
      "S1_NoQC/Paraguay_1181475_S1.tif NoQC/Paraguay_1181475_NoQC.tif\n",
      "3000\n",
      "S1_NoQC/Paraguay_4059946_S1.tif NoQC/Paraguay_4059946_NoQC.tif\n",
      "3100\n",
      "S1_NoQC/Paraguay_6979890_S1.tif NoQC/Paraguay_6979890_NoQC.tif\n",
      "3200\n",
      "S1_NoQC/Paraguay_9704722_S1.tif NoQC/Paraguay_9704722_NoQC.tif\n",
      "3300\n",
      "S1_NoQC/Somalia_6828307_S1.tif NoQC/Somalia_6828307_NoQC.tif\n",
      "3400\n",
      "S1_NoQC/Spain_4354065_S1.tif NoQC/Spain_4354065_NoQC.tif\n",
      "3500\n",
      "S1_NoQC/Sri-Lanka_1914258_S1.tif NoQC/Sri-Lanka_1914258_NoQC.tif\n",
      "3600\n",
      "S1_NoQC/Sri-Lanka_6884382_S1.tif NoQC/Sri-Lanka_6884382_NoQC.tif\n",
      "3700\n",
      "S1_NoQC/USA_1407262_S1.tif NoQC/USA_1407262_NoQC.tif\n",
      "3800\n",
      "S1_NoQC/USA_3446397_S1.tif NoQC/USA_3446397_NoQC.tif\n",
      "3900\n",
      "S1_NoQC/USA_5413558_S1.tif NoQC/USA_5413558_NoQC.tif\n",
      "4000\n",
      "S1_NoQC/USA_7100541_S1.tif NoQC/USA_7100541_NoQC.tif\n",
      "4100\n",
      "S1_NoQC/USA_8706264_S1.tif NoQC/USA_8706264_NoQC.tif\n",
      "4160\n"
     ]
    }
   ],
   "source": [
    "train_data = load_weak_flood_train_data() #download_perm_train_data()\n",
    "train_dataset = InMemoryDataset(train_data, processAndAugment)\n",
    "train_loader = torch.utils.data.DataLoader(train_dataset, batch_size=16, shuffle=True, sampler=None,\n",
    "                  batch_sampler=None, num_workers=0, collate_fn=None,\n",
    "                  pin_memory=True, drop_last=False, timeout=0,\n",
    "                  worker_init_fn=None)\n",
    "train_iter = iter(train_loader)"
   ]
  },
  {
   "cell_type": "code",
   "execution_count": 23,
   "metadata": {},
   "outputs": [
    {
     "name": "stdout",
     "output_type": "stream",
     "text": [
      "10.26 KiB    gs://cnn_chips/NoQC/Bolivia_1041766_NoQC.tif\n"
     ]
    }
   ],
   "source": [
    "!gsutil du -h -s gs://cnn_chips/NoQC/Bolivia_1041766_NoQC.tif"
   ]
  },
  {
   "cell_type": "code",
   "execution_count": null,
   "metadata": {},
   "outputs": [],
   "source": [
    "!gsutil du -h -s gs://cnn_chips/QC/Ghana_103272_QC.tif"
   ]
  },
  {
   "cell_type": "code",
   "execution_count": null,
   "metadata": {},
   "outputs": [],
   "source": [
    "!gsutil du -h -s gs://cnn_chips/S1/Ghana_103272_S1.tif"
   ]
  },
  {
   "cell_type": "code",
   "execution_count": null,
   "metadata": {},
   "outputs": [],
   "source": [
    "!gsutil du -h -s gs://cnn_chips/S1_NoQC/Bolivia_1041766_S1.tif"
   ]
  },
  {
   "cell_type": "code",
   "execution_count": 7,
   "metadata": {},
   "outputs": [
    {
     "name": "stdout",
     "output_type": "stream",
     "text": [
      "mkdir: cannot create directory ‘checkpoints’: Permission denied\n"
     ]
    }
   ],
   "source": [
    "mkdir checkpoints"
   ]
  },
  {
   "cell_type": "code",
   "execution_count": 20,
   "metadata": {
    "colab": {
     "base_uri": "https://localhost:8080/",
     "height": 1000
    },
    "colab_type": "code",
    "id": "GDa86WdzgdkH",
    "outputId": "f29debe4-669e-4955-d850-7aab77fd0834"
   },
   "outputs": [
    {
     "name": "stdout",
     "output_type": "stream",
     "text": [
      "[('S1/Ghana_5079_S1.tif', 'QC_v2/Ghana_5079_QC.tif'), ('S1/Ghana_895194_S1.tif', 'QC_v2/Ghana_895194_QC.tif'), ('S1/Ghana_868803_S1.tif', 'QC_v2/Ghana_868803_QC.tif'), ('S1/Ghana_142312_S1.tif', 'QC_v2/Ghana_142312_QC.tif'), ('S1/Ghana_234935_S1.tif', 'QC_v2/Ghana_234935_QC.tif'), ('S1/Ghana_132163_S1.tif', 'QC_v2/Ghana_132163_QC.tif'), ('S1/Ghana_495107_S1.tif', 'QC_v2/Ghana_495107_QC.tif'), ('S1/Ghana_124834_S1.tif', 'QC_v2/Ghana_124834_QC.tif'), ('S1/Ghana_1033830_S1.tif', 'QC_v2/Ghana_1033830_QC.tif'), ('S1/Ghana_277_S1.tif', 'QC_v2/Ghana_277_QC.tif'), ('S1/Ghana_308249_S1.tif', 'QC_v2/Ghana_308249_QC.tif'), ('S1/India_1050276_S1.tif', 'QC_v2/India_1050276_QC.tif'), ('S1/India_764946_S1.tif', 'QC_v2/India_764946_QC.tif'), ('S1/India_118868_S1.tif', 'QC_v2/India_118868_QC.tif'), ('S1/India_533192_S1.tif', 'QC_v2/India_533192_QC.tif'), ('S1/India_180633_S1.tif', 'QC_v2/India_180633_QC.tif'), ('S1/India_244057_S1.tif', 'QC_v2/India_244057_QC.tif'), ('S1/India_691027_S1.tif', 'QC_v2/India_691027_QC.tif'), ('S1/India_769408_S1.tif', 'QC_v2/India_769408_QC.tif'), ('S1/India_1018317_S1.tif', 'QC_v2/India_1018317_QC.tif'), ('S1/India_869358_S1.tif', 'QC_v2/India_869358_QC.tif'), ('S1/India_164336_S1.tif', 'QC_v2/India_164336_QC.tif'), ('S1/India_70352_S1.tif', 'QC_v2/India_70352_QC.tif'), ('S1/India_833266_S1.tif', 'QC_v2/India_833266_QC.tif'), ('S1/India_1068117_S1.tif', 'QC_v2/India_1068117_QC.tif'), ('S1/Mekong_1149855_S1.tif', 'QC_v2/Mekong_1149855_QC.tif'), ('S1/Mekong_977338_S1.tif', 'QC_v2/Mekong_977338_QC.tif'), ('S1/Mekong_474783_S1.tif', 'QC_v2/Mekong_474783_QC.tif'), ('S1/Mekong_293769_S1.tif', 'QC_v2/Mekong_293769_QC.tif'), ('S1/Mekong_1413877_S1.tif', 'QC_v2/Mekong_1413877_QC.tif'), ('S1/Mekong_98310_S1.tif', 'QC_v2/Mekong_98310_QC.tif'), ('S1/Nigeria_31096_S1.tif', 'QC_v2/Nigeria_31096_QC.tif'), ('S1/Nigeria_984831_S1.tif', 'QC_v2/Nigeria_984831_QC.tif'), ('S1/Nigeria_1095404_S1.tif', 'QC_v2/Nigeria_1095404_QC.tif'), ('S1/Nigeria_820924_S1.tif', 'QC_v2/Nigeria_820924_QC.tif'), ('S1/Pakistan_43105_S1.tif', 'QC_v2/Pakistan_43105_QC.tif'), ('S1/Pakistan_94095_S1.tif', 'QC_v2/Pakistan_94095_QC.tif'), ('S1/Pakistan_210595_S1.tif', 'QC_v2/Pakistan_210595_QC.tif'), ('S1/Pakistan_1027214_S1.tif', 'QC_v2/Pakistan_1027214_QC.tif'), ('S1/Pakistan_336228_S1.tif', 'QC_v2/Pakistan_336228_QC.tif'), ('S1/Pakistan_9684_S1.tif', 'QC_v2/Pakistan_9684_QC.tif'), ('S1/Paraguay_305760_S1.tif', 'QC_v2/Paraguay_305760_QC.tif'), ('S1/Paraguay_648632_S1.tif', 'QC_v2/Paraguay_648632_QC.tif'), ('S1/Paraguay_172476_S1.tif', 'QC_v2/Paraguay_172476_QC.tif'), ('S1/Paraguay_581976_S1.tif', 'QC_v2/Paraguay_581976_QC.tif'), ('S1/Paraguay_284928_S1.tif', 'QC_v2/Paraguay_284928_QC.tif'), ('S1/Paraguay_1019808_S1.tif', 'QC_v2/Paraguay_1019808_QC.tif'), ('S1/Paraguay_76868_S1.tif', 'QC_v2/Paraguay_76868_QC.tif'), ('S1/Paraguay_252217_S1.tif', 'QC_v2/Paraguay_252217_QC.tif'), ('S1/Paraguay_205585_S1.tif', 'QC_v2/Paraguay_205585_QC.tif'), ('S1/Paraguay_7894_S1.tif', 'QC_v2/Paraguay_7894_QC.tif'), ('S1/Paraguay_896458_S1.tif', 'QC_v2/Paraguay_896458_QC.tif'), ('S1/Paraguay_657443_S1.tif', 'QC_v2/Paraguay_657443_QC.tif'), ('S1/Paraguay_934240_S1.tif', 'QC_v2/Paraguay_934240_QC.tif'), ('S1/Paraguay_153941_S1.tif', 'QC_v2/Paraguay_153941_QC.tif'), ('S1/Somalia_12849_S1.tif', 'QC_v2/Somalia_12849_QC.tif'), ('S1/Somalia_256539_S1.tif', 'QC_v2/Somalia_256539_QC.tif'), ('S1/Somalia_61368_S1.tif', 'QC_v2/Somalia_61368_QC.tif'), ('S1/Somalia_649376_S1.tif', 'QC_v2/Somalia_649376_QC.tif'), ('S1/Somalia_167787_S1.tif', 'QC_v2/Somalia_167787_QC.tif'), ('S1/Spain_1199913_S1.tif', 'QC_v2/Spain_1199913_QC.tif'), ('S1/Spain_8372658_S1.tif', 'QC_v2/Spain_8372658_QC.tif'), ('S1/Spain_7604243_S1.tif', 'QC_v2/Spain_7604243_QC.tif'), ('S1/Spain_6537196_S1.tif', 'QC_v2/Spain_6537196_QC.tif'), ('S1/Spain_4282030_S1.tif', 'QC_v2/Spain_4282030_QC.tif'), ('S1/Spain_8565131_S1.tif', 'QC_v2/Spain_8565131_QC.tif'), ('S1/Sri-Lanka_85652_S1.tif', 'QC_v2/Sri-Lanka_85652_QC.tif'), ('S1/Sri-Lanka_63307_S1.tif', 'QC_v2/Sri-Lanka_63307_QC.tif'), ('S1/Sri-Lanka_612594_S1.tif', 'QC_v2/Sri-Lanka_612594_QC.tif'), ('S1/Sri-Lanka_132922_S1.tif', 'QC_v2/Sri-Lanka_132922_QC.tif'), ('S1/Sri-Lanka_236030_S1.tif', 'QC_v2/Sri-Lanka_236030_QC.tif'), ('S1/Sri-Lanka_31559_S1.tif', 'QC_v2/Sri-Lanka_31559_QC.tif'), ('S1/Sri-Lanka_236628_S1.tif', 'QC_v2/Sri-Lanka_236628_QC.tif'), ('S1/Sri-Lanka_101973_S1.tif', 'QC_v2/Sri-Lanka_101973_QC.tif'), ('S1/Sri-Lanka_321316_S1.tif', 'QC_v2/Sri-Lanka_321316_QC.tif'), ('S1/USA_826217_S1.tif', 'QC_v2/USA_826217_QC.tif'), ('S1/USA_741073_S1.tif', 'QC_v2/USA_741073_QC.tif'), ('S1/USA_275372_S1.tif', 'QC_v2/USA_275372_QC.tif'), ('S1/USA_19225_S1.tif', 'QC_v2/USA_19225_QC.tif'), ('S1/USA_366607_S1.tif', 'QC_v2/USA_366607_QC.tif'), ('S1/USA_308150_S1.tif', 'QC_v2/USA_308150_QC.tif'), ('S1/USA_1039203_S1.tif', 'QC_v2/USA_1039203_QC.tif'), ('S1/USA_251323_S1.tif', 'QC_v2/USA_251323_QC.tif'), ('S1/USA_1082482_S1.tif', 'QC_v2/USA_1082482_QC.tif'), ('S1/USA_225017_S1.tif', 'QC_v2/USA_225017_QC.tif'), ('S1/USA_986268_S1.tif', 'QC_v2/USA_986268_QC.tif'), ('S1/USA_646878_S1.tif', 'QC_v2/USA_646878_QC.tif'), ('S1/USA_761032_S1.tif', 'QC_v2/USA_761032_QC.tif'), ('S1/USA_741178_S1.tif', 'QC_v2/USA_741178_QC.tif')] files!\n",
      "WHYYYYY\n",
      "0\n",
      "S1/Ghana_5079_S1.tif QC_v2/Ghana_5079_QC.tif\n",
      "89\n"
     ]
    }
   ],
   "source": [
    "valid_data = load_flood_valid_data() #download_perm_valid_data()\n",
    "valid_dataset = InMemoryDataset(valid_data, processTestIm)\n",
    "valid_loader = torch.utils.data.DataLoader(valid_dataset, batch_size=4, shuffle=True, sampler=None,\n",
    "                  batch_sampler=None, num_workers=0, collate_fn=lambda x: (torch.cat([a[0] for a in x], 0), torch.cat([a[1] for a in x], 0)),\n",
    "                  pin_memory=True, drop_last=False, timeout=0,\n",
    "                  worker_init_fn=None)\n",
    "valid_iter = iter(train_loader)"
   ]
  },
  {
   "cell_type": "code",
   "execution_count": 21,
   "metadata": {
    "colab": {
     "base_uri": "https://localhost:8080/",
     "height": 1000
    },
    "colab_type": "code",
    "id": "BkBTS7D684Lw",
    "outputId": "889369c0-0807-4c63-f2ba-4e8a41cc9cb8"
   },
   "outputs": [
    {
     "name": "stdout",
     "output_type": "stream",
     "text": [
      "WHYYYYY\n",
      "0\n",
      "S1/Ghana_313799_S1.tif QC_v2/Ghana_313799_QC.tif\n",
      "90\n"
     ]
    }
   ],
   "source": [
    "test_data = load_flood_test_data()\n",
    "test_dataset = InMemoryDataset(test_data, processTestIm)\n",
    "test_loader = torch.utils.data.DataLoader(test_dataset, batch_size=1, shuffle=True, sampler=None,\n",
    "                  batch_sampler=None, num_workers=0, collate_fn=lambda x: x[0],\n",
    "                  pin_memory=True, drop_last=False, timeout=0,\n",
    "                  worker_init_fn=None)\n",
    "test_iter = iter(train_loader)"
   ]
  },
  {
   "cell_type": "code",
   "execution_count": 27,
   "metadata": {},
   "outputs": [
    {
     "name": "stdout",
     "output_type": "stream",
     "text": [
      "WHYYYYY\n",
      "0\n",
      "S1/Bolivia_103757_S1.tif QC_v2/Bolivia_103757_QC.tif\n",
      "15\n"
     ]
    }
   ],
   "source": [
    "bolivia_data = load_flood_bolivia_test_data()\n",
    "bolivia_dataset = InMemoryDataset(bolivia_data, processTestIm)\n",
    "bolivia_loader = torch.utils.data.DataLoader(bolivia_dataset, batch_size=1, shuffle=True, sampler=None,\n",
    "                  batch_sampler=None, num_workers=0, collate_fn=lambda x: x[0],\n",
    "                  pin_memory=True, drop_last=False, timeout=0,\n",
    "                  worker_init_fn=None)\n",
    "bolivia_iter = iter(bolivia_loader)"
   ]
  },
  {
   "cell_type": "code",
   "execution_count": null,
   "metadata": {
    "colab": {},
    "colab_type": "code",
    "id": "1MqJiLAx6_Pc"
   },
   "outputs": [],
   "source": []
  },
  {
   "cell_type": "markdown",
   "metadata": {
    "colab_type": "text",
    "id": "Q00osps22aUU"
   },
   "source": [
    "Set up net/parameters"
   ]
  },
  {
   "cell_type": "code",
   "execution_count": 60,
   "metadata": {
    "colab": {
     "base_uri": "https://localhost:8080/",
     "height": 1000
    },
    "colab_type": "code",
    "id": "DF4k-jQM2gCP",
    "outputId": "1c189728-d219-4107-926b-523962735635"
   },
   "outputs": [
    {
     "data": {
      "text/plain": [
       "FCN(\n",
       "  (backbone): IntermediateLayerGetter(\n",
       "    (conv1): Conv2d(2, 64, kernel_size=(7, 7), stride=(2, 2), padding=(3, 3), bias=False)\n",
       "    (bn1): GroupNorm(16, 64, eps=1e-05, affine=True)\n",
       "    (relu): ReLU(inplace=True)\n",
       "    (maxpool): MaxPool2d(kernel_size=3, stride=2, padding=1, dilation=1, ceil_mode=False)\n",
       "    (layer1): Sequential(\n",
       "      (0): Bottleneck(\n",
       "        (conv1): Conv2d(64, 64, kernel_size=(1, 1), stride=(1, 1), bias=False)\n",
       "        (bn1): GroupNorm(16, 64, eps=1e-05, affine=True)\n",
       "        (conv2): Conv2d(64, 64, kernel_size=(3, 3), stride=(1, 1), padding=(1, 1), bias=False)\n",
       "        (bn2): GroupNorm(16, 64, eps=1e-05, affine=True)\n",
       "        (conv3): Conv2d(64, 256, kernel_size=(1, 1), stride=(1, 1), bias=False)\n",
       "        (bn3): GroupNorm(16, 256, eps=1e-05, affine=True)\n",
       "        (relu): ReLU(inplace=True)\n",
       "        (downsample): Sequential(\n",
       "          (0): Conv2d(64, 256, kernel_size=(1, 1), stride=(1, 1), bias=False)\n",
       "          (1): GroupNorm(16, 256, eps=1e-05, affine=True)\n",
       "        )\n",
       "      )\n",
       "      (1): Bottleneck(\n",
       "        (conv1): Conv2d(256, 64, kernel_size=(1, 1), stride=(1, 1), bias=False)\n",
       "        (bn1): GroupNorm(16, 64, eps=1e-05, affine=True)\n",
       "        (conv2): Conv2d(64, 64, kernel_size=(3, 3), stride=(1, 1), padding=(1, 1), bias=False)\n",
       "        (bn2): GroupNorm(16, 64, eps=1e-05, affine=True)\n",
       "        (conv3): Conv2d(64, 256, kernel_size=(1, 1), stride=(1, 1), bias=False)\n",
       "        (bn3): GroupNorm(16, 256, eps=1e-05, affine=True)\n",
       "        (relu): ReLU(inplace=True)\n",
       "      )\n",
       "      (2): Bottleneck(\n",
       "        (conv1): Conv2d(256, 64, kernel_size=(1, 1), stride=(1, 1), bias=False)\n",
       "        (bn1): GroupNorm(16, 64, eps=1e-05, affine=True)\n",
       "        (conv2): Conv2d(64, 64, kernel_size=(3, 3), stride=(1, 1), padding=(1, 1), bias=False)\n",
       "        (bn2): GroupNorm(16, 64, eps=1e-05, affine=True)\n",
       "        (conv3): Conv2d(64, 256, kernel_size=(1, 1), stride=(1, 1), bias=False)\n",
       "        (bn3): GroupNorm(16, 256, eps=1e-05, affine=True)\n",
       "        (relu): ReLU(inplace=True)\n",
       "      )\n",
       "    )\n",
       "    (layer2): Sequential(\n",
       "      (0): Bottleneck(\n",
       "        (conv1): Conv2d(256, 128, kernel_size=(1, 1), stride=(1, 1), bias=False)\n",
       "        (bn1): GroupNorm(16, 128, eps=1e-05, affine=True)\n",
       "        (conv2): Conv2d(128, 128, kernel_size=(3, 3), stride=(2, 2), padding=(1, 1), bias=False)\n",
       "        (bn2): GroupNorm(16, 128, eps=1e-05, affine=True)\n",
       "        (conv3): Conv2d(128, 512, kernel_size=(1, 1), stride=(1, 1), bias=False)\n",
       "        (bn3): GroupNorm(16, 512, eps=1e-05, affine=True)\n",
       "        (relu): ReLU(inplace=True)\n",
       "        (downsample): Sequential(\n",
       "          (0): Conv2d(256, 512, kernel_size=(1, 1), stride=(2, 2), bias=False)\n",
       "          (1): GroupNorm(16, 512, eps=1e-05, affine=True)\n",
       "        )\n",
       "      )\n",
       "      (1): Bottleneck(\n",
       "        (conv1): Conv2d(512, 128, kernel_size=(1, 1), stride=(1, 1), bias=False)\n",
       "        (bn1): GroupNorm(16, 128, eps=1e-05, affine=True)\n",
       "        (conv2): Conv2d(128, 128, kernel_size=(3, 3), stride=(1, 1), padding=(1, 1), bias=False)\n",
       "        (bn2): GroupNorm(16, 128, eps=1e-05, affine=True)\n",
       "        (conv3): Conv2d(128, 512, kernel_size=(1, 1), stride=(1, 1), bias=False)\n",
       "        (bn3): GroupNorm(16, 512, eps=1e-05, affine=True)\n",
       "        (relu): ReLU(inplace=True)\n",
       "      )\n",
       "      (2): Bottleneck(\n",
       "        (conv1): Conv2d(512, 128, kernel_size=(1, 1), stride=(1, 1), bias=False)\n",
       "        (bn1): GroupNorm(16, 128, eps=1e-05, affine=True)\n",
       "        (conv2): Conv2d(128, 128, kernel_size=(3, 3), stride=(1, 1), padding=(1, 1), bias=False)\n",
       "        (bn2): GroupNorm(16, 128, eps=1e-05, affine=True)\n",
       "        (conv3): Conv2d(128, 512, kernel_size=(1, 1), stride=(1, 1), bias=False)\n",
       "        (bn3): GroupNorm(16, 512, eps=1e-05, affine=True)\n",
       "        (relu): ReLU(inplace=True)\n",
       "      )\n",
       "      (3): Bottleneck(\n",
       "        (conv1): Conv2d(512, 128, kernel_size=(1, 1), stride=(1, 1), bias=False)\n",
       "        (bn1): GroupNorm(16, 128, eps=1e-05, affine=True)\n",
       "        (conv2): Conv2d(128, 128, kernel_size=(3, 3), stride=(1, 1), padding=(1, 1), bias=False)\n",
       "        (bn2): GroupNorm(16, 128, eps=1e-05, affine=True)\n",
       "        (conv3): Conv2d(128, 512, kernel_size=(1, 1), stride=(1, 1), bias=False)\n",
       "        (bn3): GroupNorm(16, 512, eps=1e-05, affine=True)\n",
       "        (relu): ReLU(inplace=True)\n",
       "      )\n",
       "    )\n",
       "    (layer3): Sequential(\n",
       "      (0): Bottleneck(\n",
       "        (conv1): Conv2d(512, 256, kernel_size=(1, 1), stride=(1, 1), bias=False)\n",
       "        (bn1): GroupNorm(16, 256, eps=1e-05, affine=True)\n",
       "        (conv2): Conv2d(256, 256, kernel_size=(3, 3), stride=(1, 1), padding=(1, 1), bias=False)\n",
       "        (bn2): GroupNorm(16, 256, eps=1e-05, affine=True)\n",
       "        (conv3): Conv2d(256, 1024, kernel_size=(1, 1), stride=(1, 1), bias=False)\n",
       "        (bn3): GroupNorm(16, 1024, eps=1e-05, affine=True)\n",
       "        (relu): ReLU(inplace=True)\n",
       "        (downsample): Sequential(\n",
       "          (0): Conv2d(512, 1024, kernel_size=(1, 1), stride=(1, 1), bias=False)\n",
       "          (1): GroupNorm(16, 1024, eps=1e-05, affine=True)\n",
       "        )\n",
       "      )\n",
       "      (1): Bottleneck(\n",
       "        (conv1): Conv2d(1024, 256, kernel_size=(1, 1), stride=(1, 1), bias=False)\n",
       "        (bn1): GroupNorm(16, 256, eps=1e-05, affine=True)\n",
       "        (conv2): Conv2d(256, 256, kernel_size=(3, 3), stride=(1, 1), padding=(2, 2), dilation=(2, 2), bias=False)\n",
       "        (bn2): GroupNorm(16, 256, eps=1e-05, affine=True)\n",
       "        (conv3): Conv2d(256, 1024, kernel_size=(1, 1), stride=(1, 1), bias=False)\n",
       "        (bn3): GroupNorm(16, 1024, eps=1e-05, affine=True)\n",
       "        (relu): ReLU(inplace=True)\n",
       "      )\n",
       "      (2): Bottleneck(\n",
       "        (conv1): Conv2d(1024, 256, kernel_size=(1, 1), stride=(1, 1), bias=False)\n",
       "        (bn1): GroupNorm(16, 256, eps=1e-05, affine=True)\n",
       "        (conv2): Conv2d(256, 256, kernel_size=(3, 3), stride=(1, 1), padding=(2, 2), dilation=(2, 2), bias=False)\n",
       "        (bn2): GroupNorm(16, 256, eps=1e-05, affine=True)\n",
       "        (conv3): Conv2d(256, 1024, kernel_size=(1, 1), stride=(1, 1), bias=False)\n",
       "        (bn3): GroupNorm(16, 1024, eps=1e-05, affine=True)\n",
       "        (relu): ReLU(inplace=True)\n",
       "      )\n",
       "      (3): Bottleneck(\n",
       "        (conv1): Conv2d(1024, 256, kernel_size=(1, 1), stride=(1, 1), bias=False)\n",
       "        (bn1): GroupNorm(16, 256, eps=1e-05, affine=True)\n",
       "        (conv2): Conv2d(256, 256, kernel_size=(3, 3), stride=(1, 1), padding=(2, 2), dilation=(2, 2), bias=False)\n",
       "        (bn2): GroupNorm(16, 256, eps=1e-05, affine=True)\n",
       "        (conv3): Conv2d(256, 1024, kernel_size=(1, 1), stride=(1, 1), bias=False)\n",
       "        (bn3): GroupNorm(16, 1024, eps=1e-05, affine=True)\n",
       "        (relu): ReLU(inplace=True)\n",
       "      )\n",
       "      (4): Bottleneck(\n",
       "        (conv1): Conv2d(1024, 256, kernel_size=(1, 1), stride=(1, 1), bias=False)\n",
       "        (bn1): GroupNorm(16, 256, eps=1e-05, affine=True)\n",
       "        (conv2): Conv2d(256, 256, kernel_size=(3, 3), stride=(1, 1), padding=(2, 2), dilation=(2, 2), bias=False)\n",
       "        (bn2): GroupNorm(16, 256, eps=1e-05, affine=True)\n",
       "        (conv3): Conv2d(256, 1024, kernel_size=(1, 1), stride=(1, 1), bias=False)\n",
       "        (bn3): GroupNorm(16, 1024, eps=1e-05, affine=True)\n",
       "        (relu): ReLU(inplace=True)\n",
       "      )\n",
       "      (5): Bottleneck(\n",
       "        (conv1): Conv2d(1024, 256, kernel_size=(1, 1), stride=(1, 1), bias=False)\n",
       "        (bn1): GroupNorm(16, 256, eps=1e-05, affine=True)\n",
       "        (conv2): Conv2d(256, 256, kernel_size=(3, 3), stride=(1, 1), padding=(2, 2), dilation=(2, 2), bias=False)\n",
       "        (bn2): GroupNorm(16, 256, eps=1e-05, affine=True)\n",
       "        (conv3): Conv2d(256, 1024, kernel_size=(1, 1), stride=(1, 1), bias=False)\n",
       "        (bn3): GroupNorm(16, 1024, eps=1e-05, affine=True)\n",
       "        (relu): ReLU(inplace=True)\n",
       "      )\n",
       "    )\n",
       "    (layer4): Sequential(\n",
       "      (0): Bottleneck(\n",
       "        (conv1): Conv2d(1024, 512, kernel_size=(1, 1), stride=(1, 1), bias=False)\n",
       "        (bn1): GroupNorm(16, 512, eps=1e-05, affine=True)\n",
       "        (conv2): Conv2d(512, 512, kernel_size=(3, 3), stride=(1, 1), padding=(2, 2), dilation=(2, 2), bias=False)\n",
       "        (bn2): GroupNorm(16, 512, eps=1e-05, affine=True)\n",
       "        (conv3): Conv2d(512, 2048, kernel_size=(1, 1), stride=(1, 1), bias=False)\n",
       "        (bn3): GroupNorm(16, 2048, eps=1e-05, affine=True)\n",
       "        (relu): ReLU(inplace=True)\n",
       "        (downsample): Sequential(\n",
       "          (0): Conv2d(1024, 2048, kernel_size=(1, 1), stride=(1, 1), bias=False)\n",
       "          (1): GroupNorm(16, 2048, eps=1e-05, affine=True)\n",
       "        )\n",
       "      )\n",
       "      (1): Bottleneck(\n",
       "        (conv1): Conv2d(2048, 512, kernel_size=(1, 1), stride=(1, 1), bias=False)\n",
       "        (bn1): GroupNorm(16, 512, eps=1e-05, affine=True)\n",
       "        (conv2): Conv2d(512, 512, kernel_size=(3, 3), stride=(1, 1), padding=(4, 4), dilation=(4, 4), bias=False)\n",
       "        (bn2): GroupNorm(16, 512, eps=1e-05, affine=True)\n",
       "        (conv3): Conv2d(512, 2048, kernel_size=(1, 1), stride=(1, 1), bias=False)\n",
       "        (bn3): GroupNorm(16, 2048, eps=1e-05, affine=True)\n",
       "        (relu): ReLU(inplace=True)\n",
       "      )\n",
       "      (2): Bottleneck(\n",
       "        (conv1): Conv2d(2048, 512, kernel_size=(1, 1), stride=(1, 1), bias=False)\n",
       "        (bn1): GroupNorm(16, 512, eps=1e-05, affine=True)\n",
       "        (conv2): Conv2d(512, 512, kernel_size=(3, 3), stride=(1, 1), padding=(4, 4), dilation=(4, 4), bias=False)\n",
       "        (bn2): GroupNorm(16, 512, eps=1e-05, affine=True)\n",
       "        (conv3): Conv2d(512, 2048, kernel_size=(1, 1), stride=(1, 1), bias=False)\n",
       "        (bn3): GroupNorm(16, 2048, eps=1e-05, affine=True)\n",
       "        (relu): ReLU(inplace=True)\n",
       "      )\n",
       "    )\n",
       "  )\n",
       "  (classifier): FCNHead(\n",
       "    (0): Conv2d(2048, 512, kernel_size=(3, 3), stride=(1, 1), padding=(1, 1), bias=False)\n",
       "    (1): GroupNorm(16, 512, eps=1e-05, affine=True)\n",
       "    (2): ReLU()\n",
       "    (3): Dropout(p=0.1, inplace=False)\n",
       "    (4): Conv2d(512, 2, kernel_size=(1, 1), stride=(1, 1))\n",
       "  )\n",
       ")"
      ]
     },
     "execution_count": 60,
     "metadata": {},
     "output_type": "execute_result"
    }
   ],
   "source": [
    "import torchvision.models as models\n",
    "import torch.nn as nn\n",
    "\n",
    "net = models.segmentation.fcn_resnet50(pretrained=False, num_classes=2, pretrained_backbone=False)\n",
    "net.backbone.conv1 = nn.Conv2d(2, 64, kernel_size=7, stride=2, padding=3,\n",
    "                               bias=False)\n",
    "criterion = nn.CrossEntropyLoss(weight=torch.tensor([1,8]).float().cuda(), ignore_index=255) # \n",
    "#criterion = nn.CrossEntropyLoss(ignore_index=255)\n",
    "optimizer = torch.optim.AdamW(net.parameters(),lr=LR)\n",
    "scheduler = torch.optim.lr_scheduler.CosineAnnealingWarmRestarts(optimizer, 260, T_mult=2, eta_min=0, last_epoch=-1)\n",
    "def convertBNtoGN(module, num_groups=16):\n",
    "  if isinstance(module, torch.nn.modules.batchnorm.BatchNorm2d):\n",
    "    return nn.GroupNorm(num_groups, module.num_features,\n",
    "                        eps=module.eps, affine=module.affine)\n",
    "    if module.affine:\n",
    "        mod.weight.data = module.weight.data.clone().detach()\n",
    "        mod.bias.data = module.bias.data.clone().detach()\n",
    "\n",
    "  for name, child in module.named_children():\n",
    "      module.add_module(name, convertBNtoGN(child, num_groups=num_groups))\n",
    "\n",
    "  return module\n",
    "\n",
    "net = convertBNtoGN(net)\n",
    "net"
   ]
  },
  {
   "cell_type": "code",
   "execution_count": null,
   "metadata": {
    "colab": {
     "base_uri": "https://localhost:8080/",
     "height": 34
    },
    "colab_type": "code",
    "id": "AEyYBOyQdU0L",
    "outputId": "84b1eb15-00cc-4d6f-b273-d4f592e1c383"
   },
   "outputs": [],
   "source": [
    "#torch.load(\"/content/gdrive/My Drive/TESTING_1e4_flood_3_97_0.4078918397426605.cp\")"
   ]
  },
  {
   "cell_type": "code",
   "execution_count": null,
   "metadata": {},
   "outputs": [],
   "source": [
    "train_loader"
   ]
  },
  {
   "cell_type": "markdown",
   "metadata": {
    "colab_type": "text",
    "id": "2jwEvqA885dz"
   },
   "source": [
    "Utility Functions"
   ]
  },
  {
   "cell_type": "code",
   "execution_count": 29,
   "metadata": {
    "colab": {},
    "colab_type": "code",
    "id": "WMd65d3784oH"
   },
   "outputs": [],
   "source": [
    "def computeIOU(output, target):\n",
    "  output = torch.argmax(output, dim=1).flatten() \n",
    "  target = target.flatten()\n",
    "  no_ignore = target.ne(255).cuda()\n",
    "  output = output.masked_select(no_ignore)\n",
    "  target = target.masked_select(no_ignore)\n",
    "  intersection = torch.sum(output * target)\n",
    "  union = torch.sum(target) + torch.sum(output) - intersection\n",
    "  return (intersection + .0000001) / (union + .0000001)\n",
    "  \n",
    "\n",
    "def computeAccuracy(output, target):\n",
    "  output = torch.argmax(output, dim=1).flatten() \n",
    "  target = target.flatten()\n",
    "  no_ignore = target.ne(255).cuda()\n",
    "  output = output.masked_select(no_ignore)\n",
    "  target = target.masked_select(no_ignore)\n",
    "  correct = torch.sum(output.eq(target))\n",
    "  return correct.float() / len(target)\n"
   ]
  },
  {
   "cell_type": "code",
   "execution_count": 13,
   "metadata": {
    "colab": {
     "base_uri": "https://localhost:8080/",
     "height": 51
    },
    "colab_type": "code",
    "id": "jiP-eu3NLxIA",
    "outputId": "73ba33de-d99b-4957-f0e7-ee4f6beb172a"
   },
   "outputs": [
    {
     "name": "stdout",
     "output_type": "stream",
     "text": [
      "tensor(7.6294e-13, device='cuda:0')\n",
      "tensor(1., device='cuda:0')\n"
     ]
    }
   ],
   "source": [
    "test_1 = torch.ones(2, 2, 256, 256)\n",
    "test_2 = torch.zeros(2, 256, 256)\n",
    "test_3 = torch.ones(2, 256, 256)\n",
    "\n",
    "\n",
    "print(computeIOU(test_1.cuda(), test_2.cuda()))\n",
    "print(computeIOU(test_1.cuda(), test_3.cuda()))"
   ]
  },
  {
   "cell_type": "markdown",
   "metadata": {
    "colab_type": "text",
    "id": "XBHHATa-2h3A"
   },
   "source": [
    "Train/Validation functions"
   ]
  },
  {
   "cell_type": "code",
   "execution_count": 30,
   "metadata": {
    "colab": {},
    "colab_type": "code",
    "id": "pg1PiQ192g3g"
   },
   "outputs": [],
   "source": [
    "\n",
    "training_losses = []\n",
    "training_accuracies = []\n",
    "training_ious = []\n",
    "valid_losses = []\n",
    "valid_accuracies = []\n",
    "valid_ious = []\n",
    "\n",
    "def train(inputs, labels, net, optimizer, scheduler):\n",
    "  global running_loss\n",
    "  global running_iou\n",
    "  global running_count\n",
    "  global running_accuracy\n",
    "  # zero the parameter gradients\n",
    "  optimizer.zero_grad()\n",
    "  net = net.cuda()\n",
    "  # forward + backward + optimize\n",
    "  outputs = net(inputs.cuda())\n",
    "  loss = criterion(outputs[\"out\"], labels.long().cuda())\n",
    "  loss.backward()\n",
    "  optimizer.step()\n",
    "  scheduler.step()\n",
    "\n",
    "  running_loss += loss\n",
    "  running_iou += computeIOU(outputs[\"out\"], labels.cuda())\n",
    "  running_accuracy += computeAccuracy(outputs[\"out\"], labels.cuda())\n",
    "  running_count += 1\n",
    "\n",
    "def validation_loop(validation_data_loader, net):\n",
    "  global running_loss\n",
    "  global running_iou\n",
    "  global running_count\n",
    "  global running_accuracy\n",
    "  global max_valid_iou\n",
    "\n",
    "  global training_losses\n",
    "  global training_accuracies\n",
    "  global training_ious\n",
    "  global valid_losses\n",
    "  global valid_accuracies\n",
    "  global valid_ious\n",
    "\n",
    "  net = net.eval()\n",
    "  net = net.cuda()\n",
    "  count = 0\n",
    "  iou = 0\n",
    "  loss = 0\n",
    "  accuracy = 0\n",
    "  with torch.no_grad():\n",
    "      for (images, labels) in validation_data_loader:\n",
    "          net = net.cuda()\n",
    "          outputs = net(images.cuda())\n",
    "          valid_loss = criterion(outputs[\"out\"], labels.long().cuda())\n",
    "          valid_iou = computeIOU(outputs[\"out\"], labels.cuda())\n",
    "          valid_accuracy = computeAccuracy(outputs[\"out\"], labels.cuda())\n",
    "          iou += valid_iou\n",
    "          loss += valid_loss\n",
    "          accuracy += valid_accuracy\n",
    "          count += 1\n",
    "\n",
    "  iou = iou / count\n",
    "  accuracy = accuracy / count\n",
    "\n",
    "  if iou > max_valid_iou:\n",
    "    max_valid_iou = iou\n",
    "    save_path = os.path.join(\"checkpoints\", \"{}_{}_{}.cp\".format(RUNNAME, i, iou.item()))\n",
    "    torch.save(net.state_dict(), save_path)\n",
    "    print(\"model saved at\", save_path)\n",
    "\n",
    "  loss = loss / count\n",
    "  print(\"Training Loss:\", running_loss / running_count)\n",
    "  print(\"Training IOU:\", running_iou / running_count)\n",
    "  print(\"Training Accuracy:\", running_accuracy / running_count)\n",
    "  print(\"Validation Loss:\", loss)\n",
    "  print(\"Validation IOU:\", iou)\n",
    "  print(\"Validation Accuracy:\", accuracy)\n",
    "\n",
    "\n",
    "  training_losses.append(running_loss / running_count)\n",
    "  training_accuracies.append(running_accuracy / running_count)\n",
    "  training_ious.append(running_iou / running_count)\n",
    "  valid_losses.append(loss)\n",
    "  valid_accuracies.append(accuracy)\n",
    "  valid_ious.append(iou)\n"
   ]
  },
  {
   "cell_type": "code",
   "execution_count": 31,
   "metadata": {},
   "outputs": [],
   "source": [
    "def test_loop(test_data_loader, net):\n",
    "  net = net.eval()\n",
    "  net = net.cuda()\n",
    "  count = 0\n",
    "  iou = 0\n",
    "  loss = 0\n",
    "  accuracy = 0\n",
    "  with torch.no_grad():\n",
    "      for (images, labels) in tqdm(test_data_loader):\n",
    "          net = net.cuda()\n",
    "          outputs = net(images.cuda())\n",
    "          valid_loss = criterion(outputs[\"out\"], labels.long().cuda())\n",
    "          valid_iou = computeIOU(outputs[\"out\"], labels.cuda())\n",
    "          iou += valid_iou\n",
    "          accuracy += computeAccuracy(outputs[\"out\"], labels.cuda())\n",
    "          count += 1\n",
    "\n",
    "  iou = iou / count\n",
    "  print(\"Test IOU:\", iou)\n",
    "  print(\"Test Accuracy:\", accuracy / count)\n"
   ]
  },
  {
   "cell_type": "markdown",
   "metadata": {
    "colab_type": "text",
    "id": "4nU8Rxpa2l3p"
   },
   "source": [
    "Train Loop"
   ]
  },
  {
   "cell_type": "code",
   "execution_count": 33,
   "metadata": {
    "colab": {},
    "colab_type": "code",
    "id": "Y0h841wY2npi"
   },
   "outputs": [],
   "source": [
    "from tqdm.notebook import tqdm\n",
    "from IPython.display import clear_output\n",
    "\n",
    "running_loss = 0\n",
    "running_iou = 0\n",
    "running_count = 0\n",
    "running_accuracy = 0\n",
    "\n",
    "training_losses = []\n",
    "training_accuracies = []\n",
    "training_ious = []\n",
    "valid_losses = []\n",
    "valid_accuracies = []\n",
    "valid_ious = []\n",
    "\n",
    "\n",
    "def train_epoch(net, optimizer, scheduler, train_iter):\n",
    "  for (inputs, labels) in tqdm(train_iter):\n",
    "    train(inputs.cuda(), labels.cuda(), net.cuda(), optimizer, scheduler)\n",
    " \n",
    "\n",
    "def train_validation_loop(net, optimizer, scheduler, train_loader,\n",
    "                          valid_loader, num_epochs, cur_epoch):\n",
    "  global running_loss\n",
    "  global running_iou\n",
    "  global running_count\n",
    "  global running_accuracy\n",
    "  net = net.train()\n",
    "  running_loss = 0\n",
    "  running_iou = 0\n",
    "  running_count = 0\n",
    "  running_accuracy = 0\n",
    "  for i in tqdm(range(num_epochs)):\n",
    "    train_iter = iter(train_loader)\n",
    "    train_epoch(net, optimizer, scheduler, train_iter)\n",
    "  clear_output()\n",
    "  print(\"Current Epoch:\", cur_epoch)\n",
    "  validation_loop(iter(valid_loader), net)"
   ]
  },
  {
   "cell_type": "code",
   "execution_count": 39,
   "metadata": {},
   "outputs": [],
   "source": [
    "!sudo chmod 777 checkpoints"
   ]
  },
  {
   "cell_type": "markdown",
   "metadata": {
    "colab_type": "text",
    "id": "xPSjS-pf2vHD"
   },
   "source": [
    "test_loader[0] == usa_loader[0]"
   ]
  },
  {
   "cell_type": "code",
   "execution_count": null,
   "metadata": {
    "colab": {
     "base_uri": "https://localhost:8080/",
     "height": 482,
     "referenced_widgets": [
      "ed787105fcaa4c3c812a76c4c603d5f5",
      "25fb338b9ebb4053ac0218c253389a46",
      "0a5bf508b6b44bee8ce55182e0af6fec",
      "51b4002a832f4754b087443f75d3c97f",
      "8a35991cccc84d0494384ac2c018727c",
      "f93cc6f609e94593a6b7133ae868285e",
      "b9ec39f9a47248928f102018e2e0f116",
      "ccd281b6c8104e4fa01533165fbb2ea0",
      "8c714337e16c446281218656cb330d37",
      "82300de7ef9c4460886669b056253500",
      "44ca7d253a0c46b3b704fe67a70c52eb",
      "cca70317fa824574aa562d981391c46f",
      "ca76bbb74d4d45bc8a7ac4e1b5466e1b",
      "84eab0bbbc3d46e89df8e66cc3134be4",
      "e5e4e39f80ff4ff4b1e2e723d71e64fa",
      "c071047b9b5b420dbb5233397841a7b5"
     ]
    },
    "colab_type": "code",
    "id": "ugcVXfKj1kg8",
    "outputId": "0cc7ebd8-a627-485b-c951-04398eff0fc2"
   },
   "outputs": [
    {
     "name": "stdout",
     "output_type": "stream",
     "text": [
      "Current Epoch: 72\n",
      "Training Loss: tensor(0.2822, device='cuda:0', grad_fn=<DivBackward0>)\n",
      "Training IOU: tensor(0.5027, device='cuda:0')\n",
      "Training Accuracy: tensor(0.8789, device='cuda:0')\n",
      "Validation Loss: tensor(0.3729, device='cuda:0')\n",
      "Validation IOU: tensor(0.4972, device='cuda:0')\n",
      "Validation Accuracy: tensor(0.9219, device='cuda:0')\n"
     ]
    },
    {
     "data": {
      "image/png": "[encoded data removed]",
      "text/plain": [
       "<Figure size 432x288 with 1 Axes>"
      ]
     },
     "metadata": {
      "needs_background": "light"
     },
     "output_type": "display_data"
    },
    {
     "data": {
      "text/plain": [
       "None"
      ]
     },
     "metadata": {},
     "output_type": "display_data"
    },
    {
     "name": "stdout",
     "output_type": "stream",
     "text": [
      "max valid iou: tensor(0.5106, device='cuda:0')\n"
     ]
    },
    {
     "data": {
      "application/vnd.jupyter.widget-view+json": {
       "model_id": "59d27f6606424e67b6127e21748c73fc",
       "version_major": 2,
       "version_minor": 0
      },
      "text/plain": [
       "HBox(children=(FloatProgress(value=0.0, max=90.0), HTML(value='')))"
      ]
     },
     "metadata": {},
     "output_type": "display_data"
    },
    {
     "name": "stdout",
     "output_type": "stream",
     "text": [
      "\n",
      "Test IOU: tensor(0.3732, device='cuda:0')\n",
      "Test Accuracy: tensor(0.9261, device='cuda:0')\n"
     ]
    },
    {
     "data": {
      "application/vnd.jupyter.widget-view+json": {
       "model_id": "9f8f30e329cd425ab5ebaedcad4fe6e2",
       "version_major": 2,
       "version_minor": 0
      },
      "text/plain": [
       "HBox(children=(FloatProgress(value=0.0, max=15.0), HTML(value='')))"
      ]
     },
     "metadata": {},
     "output_type": "display_data"
    },
    {
     "name": "stdout",
     "output_type": "stream",
     "text": [
      "\n",
      "Test IOU: tensor(0.3295, device='cuda:0')\n",
      "Test Accuracy: tensor(0.8613, device='cuda:0')\n"
     ]
    },
    {
     "data": {
      "application/vnd.jupyter.widget-view+json": {
       "model_id": "919d3e78d2fc4979b262a9754231aa4a",
       "version_major": 2,
       "version_minor": 0
      },
      "text/plain": [
       "HBox(children=(FloatProgress(value=0.0, max=1.0), HTML(value='')))"
      ]
     },
     "metadata": {},
     "output_type": "display_data"
    },
    {
     "data": {
      "application/vnd.jupyter.widget-view+json": {
       "model_id": "771399dc81f84988a88aa2342c2c8b67",
       "version_major": 2,
       "version_minor": 0
      },
      "text/plain": [
       "HBox(children=(FloatProgress(value=0.0, max=260.0), HTML(value='')))"
      ]
     },
     "metadata": {},
     "output_type": "display_data"
    }
   ],
   "source": [
    "import os\n",
    "from IPython.display import display\n",
    "import matplotlib.pyplot as plt\n",
    "\n",
    "#max_valid_iou = 0\n",
    "start = 70\n",
    "\n",
    "#epochs = []\n",
    "#training_losses = []\n",
    "#training_accuracies = []\n",
    "#training_ious = []\n",
    "#valid_losses = []\n",
    "#valid_accuracies = []\n",
    "#valid_ious = []\n",
    "\n",
    "\n",
    "\n",
    "for i in range(start, 1000):\n",
    "  train_validation_loop(net, optimizer, scheduler, train_loader, valid_loader, 1, i)\n",
    "  epochs.append(i)\n",
    "  x = epochs\n",
    "  plt.plot(x, training_losses, label='training losses')\n",
    "  plt.plot(x, training_accuracies, 'tab:orange', label='training accuracy')\n",
    "  plt.plot(x, training_ious, 'tab:purple', label='training iou')\n",
    "  plt.plot(x, valid_losses, label='valid losses')\n",
    "  plt.plot(x, valid_accuracies, 'tab:red',label='valid accuracy')\n",
    "  plt.plot(x, valid_ious, 'tab:green',label='valid iou')\n",
    "  plt.legend(loc=\"upper left\")\n",
    "\n",
    "  display(plt.show())\n",
    "\n",
    "  print(\"max valid iou:\", max_valid_iou)\n",
    "  test_loop(test_loader, net)\n",
    "  test_loop(bolivia_loader, net)\n",
    "\n"
   ]
  },
  {
   "cell_type": "code",
   "execution_count": 51,
   "metadata": {
    "colab": {},
    "colab_type": "code",
    "id": "LArLAmjuOHB6"
   },
   "outputs": [
    {
     "data": {
      "application/vnd.jupyter.widget-view+json": {
       "model_id": "e9f2584ad48145128382df1267aac5a7",
       "version_major": 2,
       "version_minor": 0
      },
      "text/plain": [
       "HBox(children=(FloatProgress(value=0.0, max=15.0), HTML(value='')))"
      ]
     },
     "metadata": {},
     "output_type": "display_data"
    },
    {
     "name": "stdout",
     "output_type": "stream",
     "text": [
      "\n"
     ]
    },
    {
     "data": {
      "text/plain": [
       "0.414693"
      ]
     },
     "execution_count": 51,
     "metadata": {},
     "output_type": "execute_result"
    }
   ],
   "source": [
    "from skimage.filters import threshold_otsu\n",
    "water_probs = []\n",
    "net = net.eval()\n",
    "net = net.cuda()\n",
    "with torch.no_grad():\n",
    "  for (images, labels) in tqdm(bolivia_loader):\n",
    "      net = net.cuda()\n",
    "      net_out = net(images.cuda())[\"out\"]\n",
    "      water_prob = torch.nn.Softmax2d()(net_out)[:,1,:,:]\n",
    "      water_probs.append(water_prob)\n",
    "\n",
    "        \n",
    "threshold_otsu(torch.cat(water_probs).detach().cpu().numpy())"
   ]
  },
  {
   "cell_type": "code",
   "execution_count": 55,
   "metadata": {
    "colab": {},
    "colab_type": "code",
    "id": "fBGqX5QidWAR"
   },
   "outputs": [
    {
     "data": {
      "application/vnd.jupyter.widget-view+json": {
       "model_id": "238d801a0f8a4ac783ac64e473c9f984",
       "version_major": 2,
       "version_minor": 0
      },
      "text/plain": [
       "HBox(children=(FloatProgress(value=0.0, max=90.0), HTML(value='')))"
      ]
     },
     "metadata": {},
     "output_type": "display_data"
    },
    {
     "name": "stdout",
     "output_type": "stream",
     "text": [
      "\n",
      "Test IOU: tensor(0.3671, device='cuda:0')\n",
      "Test Accuracy: tensor(0.9266, device='cuda:0')\n"
     ]
    },
    {
     "data": {
      "application/vnd.jupyter.widget-view+json": {
       "model_id": "db7f40316500494eb8e979c6b9b03721",
       "version_major": 2,
       "version_minor": 0
      },
      "text/plain": [
       "HBox(children=(FloatProgress(value=0.0, max=15.0), HTML(value='')))"
      ]
     },
     "metadata": {},
     "output_type": "display_data"
    },
    {
     "name": "stdout",
     "output_type": "stream",
     "text": [
      "\n",
      "Test IOU: tensor(0.3475, device='cuda:0')\n",
      "Test Accuracy: tensor(0.8790, device='cuda:0')\n"
     ]
    },
    {
     "data": {
      "application/vnd.jupyter.widget-view+json": {
       "model_id": "1b955e317dd040ffafe4a956415af8d3",
       "version_major": 2,
       "version_minor": 0
      },
      "text/plain": [
       "HBox(children=(FloatProgress(value=0.0, max=90.0), HTML(value='')))"
      ]
     },
     "metadata": {},
     "output_type": "display_data"
    },
    {
     "name": "stdout",
     "output_type": "stream",
     "text": [
      "\n",
      "Test IOU: tensor(0.3771, device='cuda:0')\n",
      "Test Accuracy: tensor(0.9266, device='cuda:0')\n"
     ]
    },
    {
     "data": {
      "application/vnd.jupyter.widget-view+json": {
       "model_id": "5c5dd6797d7d4fffa03243593b6b64b1",
       "version_major": 2,
       "version_minor": 0
      },
      "text/plain": [
       "HBox(children=(FloatProgress(value=0.0, max=15.0), HTML(value='')))"
      ]
     },
     "metadata": {},
     "output_type": "display_data"
    },
    {
     "name": "stdout",
     "output_type": "stream",
     "text": [
      "\n",
      "Test IOU: tensor(0.3444, device='cuda:0')\n",
      "Test Accuracy: tensor(0.8790, device='cuda:0')\n"
     ]
    }
   ],
   "source": [
    "def computeIOUThresh(output, target, threshold):\n",
    "  output = torch.nn.Softmax2d()(output)[:,1,:,:].flatten().gt(threshold)\n",
    "  target = target.flatten()\n",
    "  no_ignore = target.ne(255).cuda()\n",
    "  output = output.masked_select(no_ignore)\n",
    "  target = target.masked_select(no_ignore)\n",
    "  intersection = torch.sum(output * target)\n",
    "  union = torch.sum(target) + torch.sum(output) - intersection\n",
    "  return (intersection + .0000001) / (union + .0000001)\n",
    "\n",
    "def test_loop_thresh(test_data_loader, net, threshold):\n",
    "  net = net.eval()\n",
    "  net = net.cuda()\n",
    "  count = 0\n",
    "  iou = 0\n",
    "  loss = 0\n",
    "  accuracy = 0\n",
    "  with torch.no_grad():\n",
    "      for (images, labels) in tqdm(test_data_loader):\n",
    "          net = net.cuda()\n",
    "          outputs = net(images.cuda())\n",
    "          valid_loss = criterion(outputs[\"out\"], labels.long().cuda())\n",
    "          valid_iou = computeIOUThresh(outputs[\"out\"], labels.cuda(), threshold)\n",
    "          iou += valid_iou\n",
    "          accuracy += computeAccuracy(outputs[\"out\"], labels.cuda())\n",
    "          count += 1\n",
    "\n",
    "  iou = iou / count\n",
    "  print(\"Test IOU:\", iou)\n",
    "  print(\"Test Accuracy:\", accuracy / count)\n",
    "\n",
    "\n",
    "test_loop_thresh(test_loader, net, .447)\n",
    "test_loop_thresh(bolivia_loader, net, .55)\n",
    "\n",
    "test_loop(test_loader, net)\n",
    "test_loop(bolivia_loader, net)\n"
   ]
  },
  {
   "cell_type": "code",
   "execution_count": null,
   "metadata": {},
   "outputs": [],
   "source": []
  },
  {
   "cell_type": "code",
   "execution_count": 38,
   "metadata": {
    "colab": {},
    "colab_type": "code",
    "id": "6vUtM4eELiYw"
   },
   "outputs": [
    {
     "ename": "RuntimeError",
     "evalue": "CUDA out of memory. Tried to allocate 16.00 MiB (GPU 0; 15.75 GiB total capacity; 14.68 GiB already allocated; 10.88 MiB free; 14.75 GiB reserved in total by PyTorch)",
     "output_type": "error",
     "traceback": [
      "\u001b[0;31m---------------------------------------------------------------------------\u001b[0m",
      "\u001b[0;31mRuntimeError\u001b[0m                              Traceback (most recent call last)",
      "\u001b[0;32m<ipython-input-38-7c1750b361e8>\u001b[0m in \u001b[0;36m<module>\u001b[0;34m\u001b[0m\n\u001b[1;32m      1\u001b[0m \u001b[0mi\u001b[0m\u001b[0;34m,\u001b[0m \u001b[0ml\u001b[0m \u001b[0;34m=\u001b[0m \u001b[0mnext\u001b[0m\u001b[0;34m(\u001b[0m\u001b[0miter\u001b[0m\u001b[0;34m(\u001b[0m\u001b[0mtest_loader\u001b[0m\u001b[0;34m)\u001b[0m\u001b[0;34m)\u001b[0m\u001b[0;34m\u001b[0m\u001b[0;34m\u001b[0m\u001b[0m\n\u001b[0;32m----> 2\u001b[0;31m \u001b[0mnet_out\u001b[0m \u001b[0;34m=\u001b[0m \u001b[0mnet\u001b[0m\u001b[0;34m(\u001b[0m\u001b[0mi\u001b[0m\u001b[0;34m.\u001b[0m\u001b[0mcuda\u001b[0m\u001b[0;34m(\u001b[0m\u001b[0;34m)\u001b[0m\u001b[0;34m)\u001b[0m\u001b[0;34m[\u001b[0m\u001b[0;34m\"out\"\u001b[0m\u001b[0;34m]\u001b[0m\u001b[0;34m\u001b[0m\u001b[0;34m\u001b[0m\u001b[0m\n\u001b[0m",
      "\u001b[0;32m/opt/conda/lib/python3.7/site-packages/torch/nn/modules/module.py\u001b[0m in \u001b[0;36m__call__\u001b[0;34m(self, *input, **kwargs)\u001b[0m\n\u001b[1;32m    530\u001b[0m             \u001b[0mresult\u001b[0m \u001b[0;34m=\u001b[0m \u001b[0mself\u001b[0m\u001b[0;34m.\u001b[0m\u001b[0m_slow_forward\u001b[0m\u001b[0;34m(\u001b[0m\u001b[0;34m*\u001b[0m\u001b[0minput\u001b[0m\u001b[0;34m,\u001b[0m \u001b[0;34m**\u001b[0m\u001b[0mkwargs\u001b[0m\u001b[0;34m)\u001b[0m\u001b[0;34m\u001b[0m\u001b[0;34m\u001b[0m\u001b[0m\n\u001b[1;32m    531\u001b[0m         \u001b[0;32melse\u001b[0m\u001b[0;34m:\u001b[0m\u001b[0;34m\u001b[0m\u001b[0;34m\u001b[0m\u001b[0m\n\u001b[0;32m--> 532\u001b[0;31m             \u001b[0mresult\u001b[0m \u001b[0;34m=\u001b[0m \u001b[0mself\u001b[0m\u001b[0;34m.\u001b[0m\u001b[0mforward\u001b[0m\u001b[0;34m(\u001b[0m\u001b[0;34m*\u001b[0m\u001b[0minput\u001b[0m\u001b[0;34m,\u001b[0m \u001b[0;34m**\u001b[0m\u001b[0mkwargs\u001b[0m\u001b[0;34m)\u001b[0m\u001b[0;34m\u001b[0m\u001b[0;34m\u001b[0m\u001b[0m\n\u001b[0m\u001b[1;32m    533\u001b[0m         \u001b[0;32mfor\u001b[0m \u001b[0mhook\u001b[0m \u001b[0;32min\u001b[0m \u001b[0mself\u001b[0m\u001b[0;34m.\u001b[0m\u001b[0m_forward_hooks\u001b[0m\u001b[0;34m.\u001b[0m\u001b[0mvalues\u001b[0m\u001b[0;34m(\u001b[0m\u001b[0;34m)\u001b[0m\u001b[0;34m:\u001b[0m\u001b[0;34m\u001b[0m\u001b[0;34m\u001b[0m\u001b[0m\n\u001b[1;32m    534\u001b[0m             \u001b[0mhook_result\u001b[0m \u001b[0;34m=\u001b[0m \u001b[0mhook\u001b[0m\u001b[0;34m(\u001b[0m\u001b[0mself\u001b[0m\u001b[0;34m,\u001b[0m \u001b[0minput\u001b[0m\u001b[0;34m,\u001b[0m \u001b[0mresult\u001b[0m\u001b[0;34m)\u001b[0m\u001b[0;34m\u001b[0m\u001b[0;34m\u001b[0m\u001b[0m\n",
      "\u001b[0;32m/opt/conda/lib/python3.7/site-packages/torchvision/models/segmentation/_utils.py\u001b[0m in \u001b[0;36mforward\u001b[0;34m(self, x)\u001b[0m\n\u001b[1;32m     18\u001b[0m         \u001b[0minput_shape\u001b[0m \u001b[0;34m=\u001b[0m \u001b[0mx\u001b[0m\u001b[0;34m.\u001b[0m\u001b[0mshape\u001b[0m\u001b[0;34m[\u001b[0m\u001b[0;34m-\u001b[0m\u001b[0;36m2\u001b[0m\u001b[0;34m:\u001b[0m\u001b[0;34m]\u001b[0m\u001b[0;34m\u001b[0m\u001b[0;34m\u001b[0m\u001b[0m\n\u001b[1;32m     19\u001b[0m         \u001b[0;31m# contract: features is a dict of tensors\u001b[0m\u001b[0;34m\u001b[0m\u001b[0;34m\u001b[0m\u001b[0;34m\u001b[0m\u001b[0m\n\u001b[0;32m---> 20\u001b[0;31m         \u001b[0mfeatures\u001b[0m \u001b[0;34m=\u001b[0m \u001b[0mself\u001b[0m\u001b[0;34m.\u001b[0m\u001b[0mbackbone\u001b[0m\u001b[0;34m(\u001b[0m\u001b[0mx\u001b[0m\u001b[0;34m)\u001b[0m\u001b[0;34m\u001b[0m\u001b[0;34m\u001b[0m\u001b[0m\n\u001b[0m\u001b[1;32m     21\u001b[0m \u001b[0;34m\u001b[0m\u001b[0m\n\u001b[1;32m     22\u001b[0m         \u001b[0mresult\u001b[0m \u001b[0;34m=\u001b[0m \u001b[0mOrderedDict\u001b[0m\u001b[0;34m(\u001b[0m\u001b[0;34m)\u001b[0m\u001b[0;34m\u001b[0m\u001b[0;34m\u001b[0m\u001b[0m\n",
      "\u001b[0;32m/opt/conda/lib/python3.7/site-packages/torch/nn/modules/module.py\u001b[0m in \u001b[0;36m__call__\u001b[0;34m(self, *input, **kwargs)\u001b[0m\n\u001b[1;32m    530\u001b[0m             \u001b[0mresult\u001b[0m \u001b[0;34m=\u001b[0m \u001b[0mself\u001b[0m\u001b[0;34m.\u001b[0m\u001b[0m_slow_forward\u001b[0m\u001b[0;34m(\u001b[0m\u001b[0;34m*\u001b[0m\u001b[0minput\u001b[0m\u001b[0;34m,\u001b[0m \u001b[0;34m**\u001b[0m\u001b[0mkwargs\u001b[0m\u001b[0;34m)\u001b[0m\u001b[0;34m\u001b[0m\u001b[0;34m\u001b[0m\u001b[0m\n\u001b[1;32m    531\u001b[0m         \u001b[0;32melse\u001b[0m\u001b[0;34m:\u001b[0m\u001b[0;34m\u001b[0m\u001b[0;34m\u001b[0m\u001b[0m\n\u001b[0;32m--> 532\u001b[0;31m             \u001b[0mresult\u001b[0m \u001b[0;34m=\u001b[0m \u001b[0mself\u001b[0m\u001b[0;34m.\u001b[0m\u001b[0mforward\u001b[0m\u001b[0;34m(\u001b[0m\u001b[0;34m*\u001b[0m\u001b[0minput\u001b[0m\u001b[0;34m,\u001b[0m \u001b[0;34m**\u001b[0m\u001b[0mkwargs\u001b[0m\u001b[0;34m)\u001b[0m\u001b[0;34m\u001b[0m\u001b[0;34m\u001b[0m\u001b[0m\n\u001b[0m\u001b[1;32m    533\u001b[0m         \u001b[0;32mfor\u001b[0m \u001b[0mhook\u001b[0m \u001b[0;32min\u001b[0m \u001b[0mself\u001b[0m\u001b[0;34m.\u001b[0m\u001b[0m_forward_hooks\u001b[0m\u001b[0;34m.\u001b[0m\u001b[0mvalues\u001b[0m\u001b[0;34m(\u001b[0m\u001b[0;34m)\u001b[0m\u001b[0;34m:\u001b[0m\u001b[0;34m\u001b[0m\u001b[0;34m\u001b[0m\u001b[0m\n\u001b[1;32m    534\u001b[0m             \u001b[0mhook_result\u001b[0m \u001b[0;34m=\u001b[0m \u001b[0mhook\u001b[0m\u001b[0;34m(\u001b[0m\u001b[0mself\u001b[0m\u001b[0;34m,\u001b[0m \u001b[0minput\u001b[0m\u001b[0;34m,\u001b[0m \u001b[0mresult\u001b[0m\u001b[0;34m)\u001b[0m\u001b[0;34m\u001b[0m\u001b[0;34m\u001b[0m\u001b[0m\n",
      "\u001b[0;32m/opt/conda/lib/python3.7/site-packages/torchvision/models/_utils.py\u001b[0m in \u001b[0;36mforward\u001b[0;34m(self, x)\u001b[0m\n\u001b[1;32m     61\u001b[0m         \u001b[0mout\u001b[0m \u001b[0;34m=\u001b[0m \u001b[0mOrderedDict\u001b[0m\u001b[0;34m(\u001b[0m\u001b[0;34m)\u001b[0m\u001b[0;34m\u001b[0m\u001b[0;34m\u001b[0m\u001b[0m\n\u001b[1;32m     62\u001b[0m         \u001b[0;32mfor\u001b[0m \u001b[0mname\u001b[0m\u001b[0;34m,\u001b[0m \u001b[0mmodule\u001b[0m \u001b[0;32min\u001b[0m \u001b[0mself\u001b[0m\u001b[0;34m.\u001b[0m\u001b[0mitems\u001b[0m\u001b[0;34m(\u001b[0m\u001b[0;34m)\u001b[0m\u001b[0;34m:\u001b[0m\u001b[0;34m\u001b[0m\u001b[0;34m\u001b[0m\u001b[0m\n\u001b[0;32m---> 63\u001b[0;31m             \u001b[0mx\u001b[0m \u001b[0;34m=\u001b[0m \u001b[0mmodule\u001b[0m\u001b[0;34m(\u001b[0m\u001b[0mx\u001b[0m\u001b[0;34m)\u001b[0m\u001b[0;34m\u001b[0m\u001b[0;34m\u001b[0m\u001b[0m\n\u001b[0m\u001b[1;32m     64\u001b[0m             \u001b[0;32mif\u001b[0m \u001b[0mname\u001b[0m \u001b[0;32min\u001b[0m \u001b[0mself\u001b[0m\u001b[0;34m.\u001b[0m\u001b[0mreturn_layers\u001b[0m\u001b[0;34m:\u001b[0m\u001b[0;34m\u001b[0m\u001b[0;34m\u001b[0m\u001b[0m\n\u001b[1;32m     65\u001b[0m                 \u001b[0mout_name\u001b[0m \u001b[0;34m=\u001b[0m \u001b[0mself\u001b[0m\u001b[0;34m.\u001b[0m\u001b[0mreturn_layers\u001b[0m\u001b[0;34m[\u001b[0m\u001b[0mname\u001b[0m\u001b[0;34m]\u001b[0m\u001b[0;34m\u001b[0m\u001b[0;34m\u001b[0m\u001b[0m\n",
      "\u001b[0;32m/opt/conda/lib/python3.7/site-packages/torch/nn/modules/module.py\u001b[0m in \u001b[0;36m__call__\u001b[0;34m(self, *input, **kwargs)\u001b[0m\n\u001b[1;32m    530\u001b[0m             \u001b[0mresult\u001b[0m \u001b[0;34m=\u001b[0m \u001b[0mself\u001b[0m\u001b[0;34m.\u001b[0m\u001b[0m_slow_forward\u001b[0m\u001b[0;34m(\u001b[0m\u001b[0;34m*\u001b[0m\u001b[0minput\u001b[0m\u001b[0;34m,\u001b[0m \u001b[0;34m**\u001b[0m\u001b[0mkwargs\u001b[0m\u001b[0;34m)\u001b[0m\u001b[0;34m\u001b[0m\u001b[0;34m\u001b[0m\u001b[0m\n\u001b[1;32m    531\u001b[0m         \u001b[0;32melse\u001b[0m\u001b[0;34m:\u001b[0m\u001b[0;34m\u001b[0m\u001b[0;34m\u001b[0m\u001b[0m\n\u001b[0;32m--> 532\u001b[0;31m             \u001b[0mresult\u001b[0m \u001b[0;34m=\u001b[0m \u001b[0mself\u001b[0m\u001b[0;34m.\u001b[0m\u001b[0mforward\u001b[0m\u001b[0;34m(\u001b[0m\u001b[0;34m*\u001b[0m\u001b[0minput\u001b[0m\u001b[0;34m,\u001b[0m \u001b[0;34m**\u001b[0m\u001b[0mkwargs\u001b[0m\u001b[0;34m)\u001b[0m\u001b[0;34m\u001b[0m\u001b[0;34m\u001b[0m\u001b[0m\n\u001b[0m\u001b[1;32m    533\u001b[0m         \u001b[0;32mfor\u001b[0m \u001b[0mhook\u001b[0m \u001b[0;32min\u001b[0m \u001b[0mself\u001b[0m\u001b[0;34m.\u001b[0m\u001b[0m_forward_hooks\u001b[0m\u001b[0;34m.\u001b[0m\u001b[0mvalues\u001b[0m\u001b[0;34m(\u001b[0m\u001b[0;34m)\u001b[0m\u001b[0;34m:\u001b[0m\u001b[0;34m\u001b[0m\u001b[0;34m\u001b[0m\u001b[0m\n\u001b[1;32m    534\u001b[0m             \u001b[0mhook_result\u001b[0m \u001b[0;34m=\u001b[0m \u001b[0mhook\u001b[0m\u001b[0;34m(\u001b[0m\u001b[0mself\u001b[0m\u001b[0;34m,\u001b[0m \u001b[0minput\u001b[0m\u001b[0;34m,\u001b[0m \u001b[0mresult\u001b[0m\u001b[0;34m)\u001b[0m\u001b[0;34m\u001b[0m\u001b[0;34m\u001b[0m\u001b[0m\n",
      "\u001b[0;32m/opt/conda/lib/python3.7/site-packages/torch/nn/modules/container.py\u001b[0m in \u001b[0;36mforward\u001b[0;34m(self, input)\u001b[0m\n\u001b[1;32m     98\u001b[0m     \u001b[0;32mdef\u001b[0m \u001b[0mforward\u001b[0m\u001b[0;34m(\u001b[0m\u001b[0mself\u001b[0m\u001b[0;34m,\u001b[0m \u001b[0minput\u001b[0m\u001b[0;34m)\u001b[0m\u001b[0;34m:\u001b[0m\u001b[0;34m\u001b[0m\u001b[0;34m\u001b[0m\u001b[0m\n\u001b[1;32m     99\u001b[0m         \u001b[0;32mfor\u001b[0m \u001b[0mmodule\u001b[0m \u001b[0;32min\u001b[0m \u001b[0mself\u001b[0m\u001b[0;34m:\u001b[0m\u001b[0;34m\u001b[0m\u001b[0;34m\u001b[0m\u001b[0m\n\u001b[0;32m--> 100\u001b[0;31m             \u001b[0minput\u001b[0m \u001b[0;34m=\u001b[0m \u001b[0mmodule\u001b[0m\u001b[0;34m(\u001b[0m\u001b[0minput\u001b[0m\u001b[0;34m)\u001b[0m\u001b[0;34m\u001b[0m\u001b[0;34m\u001b[0m\u001b[0m\n\u001b[0m\u001b[1;32m    101\u001b[0m         \u001b[0;32mreturn\u001b[0m \u001b[0minput\u001b[0m\u001b[0;34m\u001b[0m\u001b[0;34m\u001b[0m\u001b[0m\n\u001b[1;32m    102\u001b[0m \u001b[0;34m\u001b[0m\u001b[0m\n",
      "\u001b[0;32m/opt/conda/lib/python3.7/site-packages/torch/nn/modules/module.py\u001b[0m in \u001b[0;36m__call__\u001b[0;34m(self, *input, **kwargs)\u001b[0m\n\u001b[1;32m    530\u001b[0m             \u001b[0mresult\u001b[0m \u001b[0;34m=\u001b[0m \u001b[0mself\u001b[0m\u001b[0;34m.\u001b[0m\u001b[0m_slow_forward\u001b[0m\u001b[0;34m(\u001b[0m\u001b[0;34m*\u001b[0m\u001b[0minput\u001b[0m\u001b[0;34m,\u001b[0m \u001b[0;34m**\u001b[0m\u001b[0mkwargs\u001b[0m\u001b[0;34m)\u001b[0m\u001b[0;34m\u001b[0m\u001b[0;34m\u001b[0m\u001b[0m\n\u001b[1;32m    531\u001b[0m         \u001b[0;32melse\u001b[0m\u001b[0;34m:\u001b[0m\u001b[0;34m\u001b[0m\u001b[0;34m\u001b[0m\u001b[0m\n\u001b[0;32m--> 532\u001b[0;31m             \u001b[0mresult\u001b[0m \u001b[0;34m=\u001b[0m \u001b[0mself\u001b[0m\u001b[0;34m.\u001b[0m\u001b[0mforward\u001b[0m\u001b[0;34m(\u001b[0m\u001b[0;34m*\u001b[0m\u001b[0minput\u001b[0m\u001b[0;34m,\u001b[0m \u001b[0;34m**\u001b[0m\u001b[0mkwargs\u001b[0m\u001b[0;34m)\u001b[0m\u001b[0;34m\u001b[0m\u001b[0;34m\u001b[0m\u001b[0m\n\u001b[0m\u001b[1;32m    533\u001b[0m         \u001b[0;32mfor\u001b[0m \u001b[0mhook\u001b[0m \u001b[0;32min\u001b[0m \u001b[0mself\u001b[0m\u001b[0;34m.\u001b[0m\u001b[0m_forward_hooks\u001b[0m\u001b[0;34m.\u001b[0m\u001b[0mvalues\u001b[0m\u001b[0;34m(\u001b[0m\u001b[0;34m)\u001b[0m\u001b[0;34m:\u001b[0m\u001b[0;34m\u001b[0m\u001b[0;34m\u001b[0m\u001b[0m\n\u001b[1;32m    534\u001b[0m             \u001b[0mhook_result\u001b[0m \u001b[0;34m=\u001b[0m \u001b[0mhook\u001b[0m\u001b[0;34m(\u001b[0m\u001b[0mself\u001b[0m\u001b[0;34m,\u001b[0m \u001b[0minput\u001b[0m\u001b[0;34m,\u001b[0m \u001b[0mresult\u001b[0m\u001b[0;34m)\u001b[0m\u001b[0;34m\u001b[0m\u001b[0;34m\u001b[0m\u001b[0m\n",
      "\u001b[0;32m/opt/conda/lib/python3.7/site-packages/torchvision/models/resnet.py\u001b[0m in \u001b[0;36mforward\u001b[0;34m(self, x)\u001b[0m\n\u001b[1;32m    107\u001b[0m \u001b[0;34m\u001b[0m\u001b[0m\n\u001b[1;32m    108\u001b[0m         \u001b[0mout\u001b[0m \u001b[0;34m=\u001b[0m \u001b[0mself\u001b[0m\u001b[0;34m.\u001b[0m\u001b[0mconv3\u001b[0m\u001b[0;34m(\u001b[0m\u001b[0mout\u001b[0m\u001b[0;34m)\u001b[0m\u001b[0;34m\u001b[0m\u001b[0;34m\u001b[0m\u001b[0m\n\u001b[0;32m--> 109\u001b[0;31m         \u001b[0mout\u001b[0m \u001b[0;34m=\u001b[0m \u001b[0mself\u001b[0m\u001b[0;34m.\u001b[0m\u001b[0mbn3\u001b[0m\u001b[0;34m(\u001b[0m\u001b[0mout\u001b[0m\u001b[0;34m)\u001b[0m\u001b[0;34m\u001b[0m\u001b[0;34m\u001b[0m\u001b[0m\n\u001b[0m\u001b[1;32m    110\u001b[0m \u001b[0;34m\u001b[0m\u001b[0m\n\u001b[1;32m    111\u001b[0m         \u001b[0;32mif\u001b[0m \u001b[0mself\u001b[0m\u001b[0;34m.\u001b[0m\u001b[0mdownsample\u001b[0m \u001b[0;32mis\u001b[0m \u001b[0;32mnot\u001b[0m \u001b[0;32mNone\u001b[0m\u001b[0;34m:\u001b[0m\u001b[0;34m\u001b[0m\u001b[0;34m\u001b[0m\u001b[0m\n",
      "\u001b[0;32m/opt/conda/lib/python3.7/site-packages/torch/nn/modules/module.py\u001b[0m in \u001b[0;36m__call__\u001b[0;34m(self, *input, **kwargs)\u001b[0m\n\u001b[1;32m    530\u001b[0m             \u001b[0mresult\u001b[0m \u001b[0;34m=\u001b[0m \u001b[0mself\u001b[0m\u001b[0;34m.\u001b[0m\u001b[0m_slow_forward\u001b[0m\u001b[0;34m(\u001b[0m\u001b[0;34m*\u001b[0m\u001b[0minput\u001b[0m\u001b[0;34m,\u001b[0m \u001b[0;34m**\u001b[0m\u001b[0mkwargs\u001b[0m\u001b[0;34m)\u001b[0m\u001b[0;34m\u001b[0m\u001b[0;34m\u001b[0m\u001b[0m\n\u001b[1;32m    531\u001b[0m         \u001b[0;32melse\u001b[0m\u001b[0;34m:\u001b[0m\u001b[0;34m\u001b[0m\u001b[0;34m\u001b[0m\u001b[0m\n\u001b[0;32m--> 532\u001b[0;31m             \u001b[0mresult\u001b[0m \u001b[0;34m=\u001b[0m \u001b[0mself\u001b[0m\u001b[0;34m.\u001b[0m\u001b[0mforward\u001b[0m\u001b[0;34m(\u001b[0m\u001b[0;34m*\u001b[0m\u001b[0minput\u001b[0m\u001b[0;34m,\u001b[0m \u001b[0;34m**\u001b[0m\u001b[0mkwargs\u001b[0m\u001b[0;34m)\u001b[0m\u001b[0;34m\u001b[0m\u001b[0;34m\u001b[0m\u001b[0m\n\u001b[0m\u001b[1;32m    533\u001b[0m         \u001b[0;32mfor\u001b[0m \u001b[0mhook\u001b[0m \u001b[0;32min\u001b[0m \u001b[0mself\u001b[0m\u001b[0;34m.\u001b[0m\u001b[0m_forward_hooks\u001b[0m\u001b[0;34m.\u001b[0m\u001b[0mvalues\u001b[0m\u001b[0;34m(\u001b[0m\u001b[0;34m)\u001b[0m\u001b[0;34m:\u001b[0m\u001b[0;34m\u001b[0m\u001b[0;34m\u001b[0m\u001b[0m\n\u001b[1;32m    534\u001b[0m             \u001b[0mhook_result\u001b[0m \u001b[0;34m=\u001b[0m \u001b[0mhook\u001b[0m\u001b[0;34m(\u001b[0m\u001b[0mself\u001b[0m\u001b[0;34m,\u001b[0m \u001b[0minput\u001b[0m\u001b[0;34m,\u001b[0m \u001b[0mresult\u001b[0m\u001b[0;34m)\u001b[0m\u001b[0;34m\u001b[0m\u001b[0;34m\u001b[0m\u001b[0m\n",
      "\u001b[0;32m/opt/conda/lib/python3.7/site-packages/torch/nn/modules/normalization.py\u001b[0m in \u001b[0;36mforward\u001b[0;34m(self, input)\u001b[0m\n\u001b[1;32m    224\u001b[0m     \u001b[0;32mdef\u001b[0m \u001b[0mforward\u001b[0m\u001b[0;34m(\u001b[0m\u001b[0mself\u001b[0m\u001b[0;34m,\u001b[0m \u001b[0minput\u001b[0m\u001b[0;34m)\u001b[0m\u001b[0;34m:\u001b[0m\u001b[0;34m\u001b[0m\u001b[0;34m\u001b[0m\u001b[0m\n\u001b[1;32m    225\u001b[0m         return F.group_norm(\n\u001b[0;32m--> 226\u001b[0;31m             input, self.num_groups, self.weight, self.bias, self.eps)\n\u001b[0m\u001b[1;32m    227\u001b[0m \u001b[0;34m\u001b[0m\u001b[0m\n\u001b[1;32m    228\u001b[0m     \u001b[0;32mdef\u001b[0m \u001b[0mextra_repr\u001b[0m\u001b[0;34m(\u001b[0m\u001b[0mself\u001b[0m\u001b[0;34m)\u001b[0m\u001b[0;34m:\u001b[0m\u001b[0;34m\u001b[0m\u001b[0;34m\u001b[0m\u001b[0m\n",
      "\u001b[0;32m/opt/conda/lib/python3.7/site-packages/torch/nn/functional.py\u001b[0m in \u001b[0;36mgroup_norm\u001b[0;34m(input, num_groups, weight, bias, eps)\u001b[0m\n\u001b[1;32m   1704\u001b[0m     \"\"\"\n\u001b[1;32m   1705\u001b[0m     return torch.group_norm(input, num_groups, weight, bias, eps,\n\u001b[0;32m-> 1706\u001b[0;31m                             torch.backends.cudnn.enabled)\n\u001b[0m\u001b[1;32m   1707\u001b[0m \u001b[0;34m\u001b[0m\u001b[0m\n\u001b[1;32m   1708\u001b[0m \u001b[0;34m\u001b[0m\u001b[0m\n",
      "\u001b[0;31mRuntimeError\u001b[0m: CUDA out of memory. Tried to allocate 16.00 MiB (GPU 0; 15.75 GiB total capacity; 14.68 GiB already allocated; 10.88 MiB free; 14.75 GiB reserved in total by PyTorch)"
     ]
    }
   ],
   "source": [
    "i, l = next(iter(test_loader))\n",
    "net_out = net(i.cuda())[\"out\"]"
   ]
  },
  {
   "cell_type": "code",
   "execution_count": null,
   "metadata": {
    "colab": {},
    "colab_type": "code",
    "id": "abV6emoPLsFI"
   },
   "outputs": [],
   "source": [
    "torch.nn.Softmax2d()(net_out)[:,1,:,:]"
   ]
  },
  {
   "cell_type": "code",
   "execution_count": null,
   "metadata": {},
   "outputs": [],
   "source": []
  },
  {
   "cell_type": "code",
   "execution_count": null,
   "metadata": {
    "colab": {},
    "colab_type": "code",
    "id": "eLKMyzLHLxXT"
   },
   "outputs": [],
   "source": [
    "def computeAccuracy(output, target):\n",
    "  output = torch.argmax(output, dim=1).flatten() \n",
    "  target = target.flatten()\n",
    "  no_ignore = target.ne(255).cuda()\n",
    "  output = output.masked_select(no_ignore)\n",
    "  target = target.masked_select(no_ignore)\n",
    "  correct = torch.sum(output.eq(target))\n",
    "  return correct.float() / len(target)\n",
    "\n",
    "computeAccuracy(net_out[2].unsqueeze(0), l.cuda()[2].unsqueeze(0))"
   ]
  },
  {
   "cell_type": "code",
   "execution_count": null,
   "metadata": {
    "colab": {},
    "colab_type": "code",
    "id": "rD9WeWs2Y1vM"
   },
   "outputs": [],
   "source": [
    "for "
   ]
  },
  {
   "cell_type": "code",
   "execution_count": null,
   "metadata": {
    "colab": {},
    "colab_type": "code",
    "id": "aFJH0pW0YgHc"
   },
   "outputs": [],
   "source": []
  },
  {
   "cell_type": "code",
   "execution_count": null,
   "metadata": {
    "colab": {},
    "colab_type": "code",
    "id": "9Hm2heSCL8aI"
   },
   "outputs": [],
   "source": [
    "def computeIOU(output, target):\n",
    "  output = torch.argmax(output, dim=1).flatten()\n",
    "  target = target.flatten()\n",
    "  no_ignore = target.ne(255).cuda()\n",
    "  print(output)\n",
    "  print(target)\n",
    "  output = output.masked_select(no_ignore)\n",
    "  target = target.masked_select(no_ignore)\n",
    "  print(output)\n",
    "  print(target)\n",
    "  intersection = torch.sum(output * target)\n",
    "  union = torch.sum(target) + torch.sum(output) - intersection\n",
    "  return (intersection + .0000001) / (union + .0000001)\n",
    "\n",
    "im = Image.fromarray(np.uint8(output[0].cpu().numpy() * 255) , 'L')\n",
    "computeIOU(torch.stack([net_out[3]]), torch.stack([l[3].cuda()]))"
   ]
  },
  {
   "cell_type": "code",
   "execution_count": null,
   "metadata": {
    "colab": {},
    "colab_type": "code",
    "id": "bpAkDF1LWXbT"
   },
   "outputs": [],
   "source": []
  },
  {
   "cell_type": "code",
   "execution_count": null,
   "metadata": {
    "colab": {},
    "colab_type": "code",
    "id": "XXG7gkm3NbZ5"
   },
   "outputs": [],
   "source": [
    "print(torch.argmax(torch.stack([net_out[1]]), dim=1).flatten())\n",
    "c = torch.argmax(torch.stack([net_out[3]]), dim=1)\n",
    "a = torch.argmax(torch.stack([net_out[1]]), dim=1).flatten()\n",
    "print(a.shape)\n",
    "print(l[0].flatten().shape)\n",
    "pred_wat = a.eq(1)\n",
    "real_wat = l[1].flatten().cuda().eq(1)\n",
    "print(a.eq(1) * (l[1].flatten().cuda().eq(1)))\n",
    "inter = torch.sum(pred_wat * real_wat)\n",
    "union = torch.sum(pred_wat) + torch.sum(real_wat) - inter\n",
    "print(torch.sum(pred_wat * real_wat))\n",
    "print(torch.sum(pred_wat) + torch.sum(real_wat))\n",
    "print(torch.sum(pred_wat) + torch.sum(real_wat) / ((torch.sum(pred_wat) + torch.sum(real_wat) - torch.sum(pred_wat) + torch.sum(real_wat))))\n",
    "print(inter)\n",
    "print(union)\n",
    "iou = inter.float() / union\n",
    "print(iou)\n",
    "computeIOU(torch.stack([net_out[1]]).cuda(), torch.stack([l[1]]).cuda())\n",
    "print(c.squeeze())\n",
    "print(\"match\", torch.sum(c.squeeze().eq(1)))\n",
    "print((c.squeeze().cpu().detach().numpy() * 255))\n",
    "im = Image.fromarray((c.squeeze().cpu().detach().numpy() * 255), 'L')\n",
    "im"
   ]
  },
  {
   "cell_type": "code",
   "execution_count": null,
   "metadata": {
    "colab": {},
    "colab_type": "code",
    "id": "bbYaEoKAPrCo"
   },
   "outputs": [],
   "source": [
    "im = Image.fromarray((l[3].squeeze().cpu().detach().numpy() * 255), 'L')\n",
    "im"
   ]
  },
  {
   "cell_type": "code",
   "execution_count": null,
   "metadata": {
    "colab": {},
    "colab_type": "code",
    "id": "hqdEWkpbObjy"
   },
   "outputs": [],
   "source": [
    "import matplotlib.pyplot as plt\n",
    "import matplotlib.image as mpimg\n",
    "import matplotlib.colors as colors\n",
    "#i, l = next(iter(valid_loader))\n",
    "#print(l[0])\n",
    "#i = 2\n",
    "plt.imshow(i[0][0])\n",
    "#plt.imshow(l[0])"
   ]
  },
  {
   "cell_type": "code",
   "execution_count": null,
   "metadata": {
    "colab": {},
    "colab_type": "code",
    "id": "6T0KFNs_eMYP"
   },
   "outputs": [],
   "source": []
  },
  {
   "cell_type": "code",
   "execution_count": null,
   "metadata": {
    "colab": {},
    "colab_type": "code",
    "id": "Zk8q_ZmITL5x"
   },
   "outputs": [],
   "source": [
    "c = torch.argmax(torch.stack([net_out[2]]), dim=1)\n",
    "c = c.squeeze().cpu().detach().numpy()\n",
    "plt.imshow(c)"
   ]
  },
  {
   "cell_type": "code",
   "execution_count": null,
   "metadata": {
    "colab": {},
    "colab_type": "code",
    "id": "JiRb-kYyW_TV"
   },
   "outputs": [],
   "source": [
    "test_dataset[0][1].shape"
   ]
  },
  {
   "cell_type": "code",
   "execution_count": null,
   "metadata": {
    "colab": {},
    "colab_type": "code",
    "id": "cLqIdbNOxlC4"
   },
   "outputs": [],
   "source": [
    "mean = 0.\n",
    "std = 0.\n",
    "i = 0\n",
    "total_water = 0\n",
    "total_land = 0\n",
    "total_mix = 0\n",
    "for images, label in train_loader:\n",
    "    batch_samples = images.size(0) # batch size (the last batch can have smaller size!)\n",
    "    images = images.view(batch_samples, images.size(1), -1)\n",
    "    if torch.sum(images != images) != 0:\n",
    "      print(\"NAN\")\n",
    "      continue\n",
    "    #print(images)\n",
    "    #print(images.max(2))\n",
    "    #print(images.min(2))\n",
    "    #print(images.mean(2))\n",
    "    total_water += torch.sum(label == 1)\n",
    "    total_land += torch.sum(label == 0)\n",
    "    total_mix += torch.sum(label == 255)\n",
    "    #print(images)\n",
    "    mean += images.mean(2).sum(0)\n",
    "    std += images.std(2).sum(0)\n",
    "    i += len(images)\n",
    "\n",
    "mean /= i\n",
    "std /= i\n",
    "mean, std, total_water, total_land, total_water.float() / (total_land + total_water.float() + total_mix), total_land.float() / (total_land + total_water.float() + total_mix)\n"
   ]
  },
  {
   "cell_type": "code",
   "execution_count": 34,
   "metadata": {
    "colab": {
     "base_uri": "https://localhost:8080/",
     "height": 83,
     "referenced_widgets": [
      "52308f87ad3d46a885815de01d2a8402",
      "1c740a2079f04eb1b1c3586cf060087a",
      "fa7fbb20e21748568096c1aa226bf09d",
      "65bfba0c282c4de2a8c7c738431f617f",
      "bb6710d665f64746a816abac2cb6ad1a",
      "785c07b1622a42648b66c6ce1ddf593f",
      "67a9b7f67a274e1ca75dc8ea9c72e3b1",
      "a22b328f55be4871929c1bf872887814"
     ]
    },
    "colab_type": "code",
    "id": "jywv7vAt3ZDT",
    "outputId": "96542618-894e-4141-ccfa-8f9ede24acec"
   },
   "outputs": [
    {
     "data": {
      "application/vnd.jupyter.widget-view+json": {
       "model_id": "0f81280988ea4d0d99281aedbc3b4576",
       "version_major": 2,
       "version_minor": 0
      },
      "text/plain": [
       "HBox(children=(FloatProgress(value=0.0, max=90.0), HTML(value='')))"
      ]
     },
     "metadata": {},
     "output_type": "display_data"
    },
    {
     "name": "stdout",
     "output_type": "stream",
     "text": [
      "\n",
      "Test IOU: tensor(0.2750, device='cuda:0')\n",
      "Test Accuracy: tensor(0.8847, device='cuda:0')\n"
     ]
    }
   ],
   "source": [
    "def test_loop(test_data_loader, net):\n",
    "  net = net.eval()\n",
    "  net = net.cuda()\n",
    "  count = 0\n",
    "  iou = 0\n",
    "  loss = 0\n",
    "  accuracy = 0\n",
    "  with torch.no_grad():\n",
    "      for (images, labels) in tqdm(test_data_loader):\n",
    "          net = net.cuda()\n",
    "          outputs = net(images.cuda())\n",
    "          valid_loss = criterion(outputs[\"out\"], labels.long().cuda())\n",
    "          valid_iou = computeIOU(outputs[\"out\"], labels.cuda())\n",
    "          iou += valid_iou\n",
    "          accuracy += computeAccuracy(outputs[\"out\"], labels.cuda())\n",
    "          count += 1\n",
    "\n",
    "  iou = iou / count\n",
    "  print(\"Test IOU:\", iou)\n",
    "  print(\"Test Accuracy:\", accuracy / count)\n"
   ]
  },
  {
   "cell_type": "code",
   "execution_count": null,
   "metadata": {},
   "outputs": [],
   "source": []
  },
  {
   "cell_type": "code",
   "execution_count": null,
   "metadata": {
    "colab": {},
    "colab_type": "code",
    "id": "0ISCe8PnTNEs"
   },
   "outputs": [],
   "source": [
    "i, l = next(iter(train_loader))"
   ]
  },
  {
   "cell_type": "code",
   "execution_count": null,
   "metadata": {
    "colab": {},
    "colab_type": "code",
    "id": "r6K1xRRQuTze"
   },
   "outputs": [],
   "source": [
    "net = net.cuda()\n",
    "outputs = net(i.cuda())[\"out\"]\n"
   ]
  },
  {
   "cell_type": "code",
   "execution_count": null,
   "metadata": {
    "colab": {},
    "colab_type": "code",
    "id": "LCbHrNLTT5E_"
   },
   "outputs": [],
   "source": [
    "#print(torch.argmax(outputs, dim=1))\n",
    "print(torch.argmax(outputs, dim=1).shape)\n",
    "print(torch.sum(torch.argmax(outputs, dim=1)[4]))\n",
    "\n",
    "plt.imshow(torch.argmax(outputs, dim=1)[4].cpu().detach().numpy())"
   ]
  },
  {
   "cell_type": "code",
   "execution_count": null,
   "metadata": {
    "colab": {},
    "colab_type": "code",
    "id": "vxS3FpYyVB5c"
   },
   "outputs": [],
   "source": [
    "plt.imshow(train_data[0][0][1])"
   ]
  },
  {
   "cell_type": "code",
   "execution_count": null,
   "metadata": {},
   "outputs": [],
   "source": [
    "plt.imshow(train_data[0][1].squeeze() == 0)"
   ]
  },
  {
   "cell_type": "code",
   "execution_count": null,
   "metadata": {},
   "outputs": [],
   "source": [
    "torch.sum(l[2] == 255)"
   ]
  },
  {
   "cell_type": "code",
   "execution_count": null,
   "metadata": {
    "colab": {},
    "colab_type": "code",
    "id": "lIEtnUpSUCaQ"
   },
   "outputs": [],
   "source": [
    "from PIL import Image\n",
    "import os\n",
    "import rasterio\n",
    "import numpy as np\n",
    "im = Image.fromarray(np.uint8(flood_data[4][0][1] * 255) , 'L')\n",
    "print(\"did stuff\")\n",
    "im.convert(\"L\")\n",
    "\n"
   ]
  },
  {
   "cell_type": "code",
   "execution_count": null,
   "metadata": {
    "colab": {},
    "colab_type": "code",
    "id": "YUSPDxlMUTgi"
   },
   "outputs": [],
   "source": [
    "xf, yf = processTestIm(flood_data[0])\n",
    "xp, yp = valid_dataset[1]\n",
    "print(xp.unsqueeze(0).shape)\n",
    "transforms.ToPILImage()(net(xp.unsqueeze(0).cuda())[\"out\"][0].cpu())"
   ]
  },
  {
   "cell_type": "code",
   "execution_count": null,
   "metadata": {
    "colab": {},
    "colab_type": "code",
    "id": "WOvnJf77YyPY"
   },
   "outputs": [],
   "source": [
    "xp, yp = valid_dataset[1]\n",
    "print(valid_data[0][1])\n",
    "print(Image.fromarray(valid_data[1][0][0] * 255).convert(\"L\").size)\n",
    "Image.fromarray(valid_data[1][1][0] * 255).convert(\"L\")"
   ]
  },
  {
   "cell_type": "code",
   "execution_count": null,
   "metadata": {
    "colab": {},
    "colab_type": "code",
    "id": "PP08GQ0nvURS"
   },
   "outputs": [],
   "source": [
    "Image.fromarray(xp[0].cpu().numpy() * 255).convert(\"L\")"
   ]
  },
  {
   "cell_type": "code",
   "execution_count": null,
   "metadata": {
    "colab": {},
    "colab_type": "code",
    "id": "I_VB1TL0s8Ea"
   },
   "outputs": [],
   "source": [
    "#print(yp)\n",
    "yp\n",
    "Image.fromarray(yp.cpu().numpy() * 255).convert(\"L\")"
   ]
  },
  {
   "cell_type": "code",
   "execution_count": null,
   "metadata": {
    "colab": {},
    "colab_type": "code",
    "id": "nJMONX77uQ7g"
   },
   "outputs": [],
   "source": [
    "print(yp)\n",
    "Image.fromarray(yp.cpu().numpy() * 255).convert(\"L\")"
   ]
  },
  {
   "cell_type": "code",
   "execution_count": null,
   "metadata": {
    "colab": {},
    "colab_type": "code",
    "id": "ezrBdf_sY3hw"
   },
   "outputs": [],
   "source": [
    "def processAndAugment(data):\n",
    "  (x,y) = data\n",
    "  im,label = x.copy(), y.copy()\n",
    "\n",
    "  # convert to PIL for easier transforms\n",
    "  im1 = transforms.ToPILImage()(im[0])\n",
    "  im2 = transforms.ToPILImage()(im[1])\n",
    "  label = transforms.ToPILImage()(label.squeeze())\n",
    "\n",
    "  # Get params for random transforms\n",
    "  i, j, h, w = transforms.RandomCrop.get_params(im1, (256, 256))\n",
    "  \n",
    "  im1 = F.crop(im1, i, j, h, w)\n",
    "  im2 = F.crop(im2, i, j, h, w)\n",
    "  label = F.crop(label, i, j, h, w)\n",
    "  if random.random() > 0.5:\n",
    "    im1 = F.hflip(im1)\n",
    "    im2 = F.hflip(im2)\n",
    "    label = F.hflip(label)\n",
    "  if random.random() > 0.5:\n",
    "    im1 = F.vflip(im1)\n",
    "    im2 = F.vflip(im2)\n",
    "    label = F.vflip(label)\n",
    "  \n",
    "  norm = transforms.Normalize([0.6851, 0.5235], [0.0820, 0.1102])\n",
    "  im = torch.stack([transforms.ToTensor()(im1).squeeze(), transforms.ToTensor()(im2).squeeze()])\n",
    "  return im, transforms.ToTensor()(label).squeeze()\n",
    "\n",
    "\n",
    "def processTestImspec(data):\n",
    "  (x,y) = data\n",
    "  im,label = x.copy(), y.copy()\n",
    "  norm = transforms.Normalize([0.6851, 0.5235], [0.0820, 0.1102])\n",
    "  im = torch.from_numpy(im)\n",
    "  #im = norm(im)\n",
    "  # convert to PIL for easier transforms\n",
    "  im_c1 = transforms.ToPILImage()(im[0]).resize((512,512))\n",
    "  im_c2 = transforms.ToPILImage()(im[1]).resize((512,512))\n",
    "  label = transforms.ToPILImage()(label.squeeze())\n",
    "\n",
    "  im_c1s = [F.crop(im_c1, 0, 0, 256, 256), F.crop(im_c1, 0, 256, 256, 256),\n",
    "            F.crop(im_c1, 256, 0, 256, 256), F.crop(im_c1, 256, 256, 256, 256)]\n",
    "  im_c2s = [F.crop(im_c2, 0, 0, 256, 256), F.crop(im_c2, 0, 256, 256, 256),\n",
    "            F.crop(im_c2, 256, 0, 256, 256), F.crop(im_c2, 256, 256, 256, 256)]\n",
    "  labels = [F.crop(label, 0, 0, 256, 256), F.crop(label, 0, 256, 256, 256),\n",
    "            F.crop(label, 256, 0, 256, 256), F.crop(label, 256, 256, 256, 256)]\n",
    "\n",
    "\n",
    "  ims = [torch.stack((transforms.ToTensor()(x).squeeze(),\n",
    "                    transforms.ToTensor()(y).squeeze()))\n",
    "                    for (x,y) in zip(im_c1s, im_c2s)]\n",
    "  ims = torch.stack([norm(im) for im in ims])\n",
    "  labels = [transforms.ToTensor()(label).squeeze() for label in labels]\n",
    "  labels = torch.stack(labels)\n",
    "  return ims[0], labels\n",
    "\n",
    "\n",
    "xp, yp = processTestIm(flood_data[1])\n",
    "#xp, yp = next(iter(test_loader))\n",
    "print(xp.shape)\n",
    "print(xp[1])\n",
    "Image.fromarray(xp[1][0].cpu().numpy() * 255).convert(\"L\")"
   ]
  },
  {
   "cell_type": "code",
   "execution_count": null,
   "metadata": {
    "colab": {},
    "colab_type": "code",
    "id": "i6FvxodYeucT"
   },
   "outputs": [],
   "source": [
    "Image.fromarray(yp[3].cpu().numpy() * 255).convert(\"L\")"
   ]
  },
  {
   "cell_type": "code",
   "execution_count": null,
   "metadata": {
    "colab": {},
    "colab_type": "code",
    "id": "zkE4vlgfiZxt"
   },
   "outputs": [],
   "source": [
    "print(flood_data[1][1].shape)\n",
    "Image.fromarray(flood_data[1][1][0] * 255).convert(\"L\")"
   ]
  },
  {
   "cell_type": "code",
   "execution_count": null,
   "metadata": {
    "colab": {},
    "colab_type": "code",
    "id": "3NOBWKXmjdUq"
   },
   "outputs": [],
   "source": [
    "print(flood_data[1][1].shape)\n",
    "#im2 = transforms.ToTensor()(transforms.ToPILImage()(flood_data[1][1].squeeze()))\n",
    "im2 = torch.from_numpy(flood_data[1][1].squeeze())\n",
    "print(im2.cpu().numpy().shape)\n",
    "print(im2.cpu().numpy())\n",
    "print(flood_data[1][1].shape)\n",
    "print(flood_data[1][1])\n",
    "print(im2.cpu().numpy().dtype)\n",
    "print(flood_data[1][1].dtype)\n",
    "print(im2.cpu().numpy().shape)\n",
    "print(flood_data[1][1][0].shape)\n",
    "\n",
    "print(im2.cpu().numpy().round() == flood_data[1][1][0].round())\n",
    "print(np.sum((im2.cpu().numpy()[0].round() != flood_data[1][1][0].round())))\n",
    "Image.fromarray(im2.cpu().numpy() * 255).convert(\"L\")"
   ]
  },
  {
   "cell_type": "code",
   "execution_count": null,
   "metadata": {
    "colab": {},
    "colab_type": "code",
    "id": "eerZvjqdlH6H"
   },
   "outputs": [],
   "source": [
    "next(iter(test_loader))[0].shape"
   ]
  },
  {
   "cell_type": "code",
   "execution_count": null,
   "metadata": {
    "colab": {},
    "colab_type": "code",
    "id": "S91aGycyYg37"
   },
   "outputs": [],
   "source": [
    "transforms.ToPILImage()(net(xp.cuda())[\"out\"][0].cpu())"
   ]
  },
  {
   "cell_type": "code",
   "execution_count": null,
   "metadata": {
    "colab": {},
    "colab_type": "code",
    "id": "Xv6OvAP0Vntv"
   },
   "outputs": [],
   "source": [
    "im = Image.fromarray(np.uint8(train_data[0][0][0] * 255) , 'L')\n",
    "print(\"did stuff\")\n",
    "im.convert(\"L\")\n",
    "\n"
   ]
  },
  {
   "cell_type": "code",
   "execution_count": null,
   "metadata": {
    "colab": {},
    "colab_type": "code",
    "id": "yufEdwAGctIB"
   },
   "outputs": [],
   "source": [
    "im = Image.fromarray(np.uint8(train_data[0][1][0] * 255) , 'L')\n",
    "print(\"did stuff\")\n",
    "im.convert(\"L\")\n"
   ]
  },
  {
   "cell_type": "code",
   "execution_count": null,
   "metadata": {
    "colab": {},
    "colab_type": "code",
    "id": "dXSepXm9czPn"
   },
   "outputs": [],
   "source": [
    "test_dataset[0]"
   ]
  },
  {
   "cell_type": "code",
   "execution_count": null,
   "metadata": {
    "colab": {},
    "colab_type": "code",
    "id": "jCYc5gGYFA1x"
   },
   "outputs": [],
   "source": [
    "l.shape"
   ]
  },
  {
   "cell_type": "code",
   "execution_count": null,
   "metadata": {
    "colab": {},
    "colab_type": "code",
    "id": "ak9L0gyTE4yL"
   },
   "outputs": [],
   "source": [
    "i, l = valid_dataset[0]\n",
    "print(valid_file)\n",
    "im = Image.fromarray(np.uint8(l * 255) , 'L')\n",
    "im"
   ]
  },
  {
   "cell_type": "code",
   "execution_count": null,
   "metadata": {
    "colab": {},
    "colab_type": "code",
    "id": "DXx8kxjrFFHu"
   },
   "outputs": [],
   "source": [
    "#im = Image.fromarray(np.uint8(i[1][1] * 255) , 'L')\n",
    "print(i.numpy()[0].shape)\n",
    "im = Image.fromarray(i[0][0].cpu().numpy(), 'L')\n",
    "im"
   ]
  },
  {
   "cell_type": "code",
   "execution_count": null,
   "metadata": {
    "colab": {},
    "colab_type": "code",
    "id": "pmOh87HkJoEs"
   },
   "outputs": [],
   "source": [
    "len(train_dataset)"
   ]
  },
  {
   "cell_type": "code",
   "execution_count": null,
   "metadata": {
    "colab": {},
    "colab_type": "code",
    "id": "cG85hdLDGnlx"
   },
   "outputs": [],
   "source": [
    "a = train_data[50][0][1]\n",
    "im = Image.fromarray((a * 255), \"L\")\n",
    "im"
   ]
  },
  {
   "cell_type": "code",
   "execution_count": null,
   "metadata": {
    "colab": {},
    "colab_type": "code",
    "id": "0HeeVGLgHVxb"
   },
   "outputs": [],
   "source": [
    "def download_flood_water_data_from_list(l):\n",
    "  i= 0\n",
    "  tot_nan = 0\n",
    "  tot_good = 0\n",
    "  flood_data = []\n",
    "  for (im_fname, mask_fname) in l:\n",
    "    arr_x = getArrFlood(os.path.join(\"/content/files4/S1\", im_fname))\n",
    "    print(os.path.join(\"/content/files4/QC_v2\", mask_fname))\n",
    "    arr_y = np.uint8(getArrFlood(os.path.join(\"/content/files4/QC_v2\", mask_fname)))\n",
    "    tot_nan += np.sum(arr_x != arr_x)\n",
    "    tot_good += np.sum(arr_x == arr_x)\n",
    "    if np.sum((arr_x != arr_x)) == 0:\n",
    "      ignore = np.uint8((arr_y == -1))\n",
    "      ignore = np.uint8(((np.uint8(ignore) * -1) * 256) + 1)\n",
    "      arr_y *= ignore\n",
    "      arr_x = np.clip(arr_x, -50, 1)\n",
    "      arr_x = (arr_x + 50) / 51\n",
    "      i += 1\n",
    "      flood_data.append((arr_x,arr_y))\n",
    "      print(i)\n",
    "    else:\n",
    "      print(\"skipping nan\")\n",
    "  print(tot_nan, tot_good)\n",
    "  return flood_data\n"
   ]
  },
  {
   "cell_type": "code",
   "execution_count": null,
   "metadata": {
    "colab": {},
    "colab_type": "code",
    "id": "sFBNHx7IHoHQ"
   },
   "outputs": [],
   "source": [
    "arr_x = getArrFlood(os.path.join(\"/content/files4/S1\", \"India_179238_S1.tif\"))\n",
    "arr_x"
   ]
  },
  {
   "cell_type": "code",
   "execution_count": null,
   "metadata": {
    "colab": {},
    "colab_type": "code",
    "id": "MQeqVczpH3vp"
   },
   "outputs": [],
   "source": [
    "arr_x = np.clip(arr_x, -50, 1)\n",
    "arr_x = (arr_x + 50) / 51\n",
    "print(arr_x)\n",
    "Image.fromarray(arr_x[0] * 255, \"L\")"
   ]
  },
  {
   "cell_type": "code",
   "execution_count": 90,
   "metadata": {},
   "outputs": [],
   "source": [
    "def runWithTTA(net, batch):\n",
    "    with torch.no_grad():\n",
    "        net = net.cuda()\n",
    "        batch = batch.cpu().numpy()\n",
    "\n",
    "        batch2 = np.flip(batch,axis=2).copy()\n",
    "        batch3 = np.flip(batch,axis=3).copy()\n",
    "\n",
    "        batch = torch.from_numpy(batch).cuda()\n",
    "        batch2 = torch.from_numpy(batch2).cuda()\n",
    "        batch3 = torch.from_numpy(batch3).cuda()\n",
    "\n",
    "        out1 = net(batch)[\"out\"].cpu()\n",
    "        out2 = torch.from_numpy(np.flip(net(batch2)[\"out\"].cpu().numpy(), axis=2).copy())\n",
    "        out3 = torch.from_numpy(np.flip(net(batch3)[\"out\"].cpu().numpy(), axis=3).copy())\n",
    "        print(torch.stack([out1,out2,out3]).shape)\n",
    "        out = torch.mean(torch.stack([out1,out2,out3]),dim=0)\n",
    "        return out"
   ]
  },
  {
   "cell_type": "code",
   "execution_count": 63,
   "metadata": {},
   "outputs": [],
   "source": [
    "i, l = next(iter(test_loader))"
   ]
  },
  {
   "cell_type": "code",
   "execution_count": 96,
   "metadata": {},
   "outputs": [
    {
     "name": "stdout",
     "output_type": "stream",
     "text": [
      "torch.Size([3, 4, 2, 256, 256])\n"
     ]
    },
    {
     "data": {
      "text/plain": [
       "tensor([[[[ 1.6897,  1.6897,  1.6897,  ...,  1.0924,  1.0924,  1.0924],\n",
       "          [ 1.6897,  1.6897,  1.6897,  ...,  1.0924,  1.0924,  1.0924],\n",
       "          [ 1.6897,  1.6897,  1.6897,  ...,  1.0924,  1.0924,  1.0924],\n",
       "          ...,\n",
       "          [ 1.6170,  1.6170,  1.6170,  ..., -1.0107, -1.0107, -1.0107],\n",
       "          [ 1.6170,  1.6170,  1.6170,  ..., -1.0107, -1.0107, -1.0107],\n",
       "          [ 1.6170,  1.6170,  1.6170,  ..., -1.0107, -1.0107, -1.0107]],\n",
       "\n",
       "         [[-1.5261, -1.5261, -1.5261,  ..., -0.9980, -0.9980, -0.9980],\n",
       "          [-1.5261, -1.5261, -1.5261,  ..., -0.9980, -0.9980, -0.9980],\n",
       "          [-1.5261, -1.5261, -1.5261,  ..., -0.9980, -0.9980, -0.9980],\n",
       "          ...,\n",
       "          [-1.3988, -1.3988, -1.3988,  ...,  1.2987,  1.2987,  1.2987],\n",
       "          [-1.3988, -1.3988, -1.3988,  ...,  1.2987,  1.2987,  1.2987],\n",
       "          [-1.3988, -1.3988, -1.3988,  ...,  1.2987,  1.2987,  1.2987]]],\n",
       "\n",
       "\n",
       "        [[[ 1.3230,  1.3230,  1.3230,  ...,  0.9283,  0.9283,  0.9283],\n",
       "          [ 1.3230,  1.3230,  1.3230,  ...,  0.9283,  0.9283,  0.9283],\n",
       "          [ 1.3230,  1.3230,  1.3230,  ...,  0.9283,  0.9283,  0.9283],\n",
       "          ...,\n",
       "          [-1.2454, -1.2454, -1.2454,  ...,  1.1806,  1.1806,  1.1806],\n",
       "          [-1.2454, -1.2454, -1.2454,  ...,  1.1806,  1.1806,  1.1806],\n",
       "          [-1.2454, -1.2454, -1.2454,  ...,  1.1806,  1.1806,  1.1806]],\n",
       "\n",
       "         [[-1.1830, -1.1830, -1.1830,  ..., -0.8061, -0.8061, -0.8061],\n",
       "          [-1.1830, -1.1830, -1.1830,  ..., -0.8061, -0.8061, -0.8061],\n",
       "          [-1.1830, -1.1830, -1.1830,  ..., -0.8061, -0.8061, -0.8061],\n",
       "          ...,\n",
       "          [ 1.5719,  1.5719,  1.5719,  ..., -0.9849, -0.9849, -0.9849],\n",
       "          [ 1.5719,  1.5719,  1.5719,  ..., -0.9849, -0.9849, -0.9849],\n",
       "          [ 1.5719,  1.5719,  1.5719,  ..., -0.9849, -0.9849, -0.9849]]],\n",
       "\n",
       "\n",
       "        [[[ 1.6953,  1.6953,  1.6953,  ..., -1.2160, -1.2160, -1.2160],\n",
       "          [ 1.6953,  1.6953,  1.6953,  ..., -1.2160, -1.2160, -1.2160],\n",
       "          [ 1.6953,  1.6953,  1.6953,  ..., -1.2160, -1.2160, -1.2160],\n",
       "          ...,\n",
       "          [ 0.6334,  0.6334,  0.6334,  ...,  0.2916,  0.2916,  0.2916],\n",
       "          [ 0.6334,  0.6334,  0.6334,  ...,  0.2916,  0.2916,  0.2916],\n",
       "          [ 0.6334,  0.6334,  0.6334,  ...,  0.2916,  0.2916,  0.2916]],\n",
       "\n",
       "         [[-1.4874, -1.4874, -1.4874,  ...,  1.5173,  1.5173,  1.5173],\n",
       "          [-1.4874, -1.4874, -1.4874,  ...,  1.5173,  1.5173,  1.5173],\n",
       "          [-1.4874, -1.4874, -1.4874,  ...,  1.5173,  1.5173,  1.5173],\n",
       "          ...,\n",
       "          [-0.5115, -0.5115, -0.5115,  ..., -0.2287, -0.2287, -0.2287],\n",
       "          [-0.5115, -0.5115, -0.5115,  ..., -0.2287, -0.2287, -0.2287],\n",
       "          [-0.5115, -0.5115, -0.5115,  ..., -0.2287, -0.2287, -0.2287]]],\n",
       "\n",
       "\n",
       "        [[[-1.1785, -1.1785, -1.1785,  ...,  1.3283,  1.3283,  1.3283],\n",
       "          [-1.1785, -1.1785, -1.1785,  ...,  1.3283,  1.3283,  1.3283],\n",
       "          [-1.1785, -1.1785, -1.1785,  ...,  1.3283,  1.3283,  1.3283],\n",
       "          ...,\n",
       "          [ 1.6958,  1.6958,  1.6958,  ...,  0.6966,  0.6966,  0.6966],\n",
       "          [ 1.6958,  1.6958,  1.6958,  ...,  0.6966,  0.6966,  0.6966],\n",
       "          [ 1.6958,  1.6958,  1.6958,  ...,  0.6966,  0.6966,  0.6966]],\n",
       "\n",
       "         [[ 1.4570,  1.4570,  1.4570,  ..., -1.1897, -1.1897, -1.1897],\n",
       "          [ 1.4570,  1.4570,  1.4570,  ..., -1.1897, -1.1897, -1.1897],\n",
       "          [ 1.4570,  1.4570,  1.4570,  ..., -1.1897, -1.1897, -1.1897],\n",
       "          ...,\n",
       "          [-1.5842, -1.5842, -1.5842,  ..., -0.5522, -0.5522, -0.5522],\n",
       "          [-1.5842, -1.5842, -1.5842,  ..., -0.5522, -0.5522, -0.5522],\n",
       "          [-1.5842, -1.5842, -1.5842,  ..., -0.5522, -0.5522, -0.5522]]]])"
      ]
     },
     "execution_count": 96,
     "metadata": {},
     "output_type": "execute_result"
    }
   ],
   "source": [
    "runWithTTA(net, i.cuda())"
   ]
  },
  {
   "cell_type": "code",
   "execution_count": 113,
   "metadata": {},
   "outputs": [
    {
     "data": {
      "application/vnd.jupyter.widget-view+json": {
       "model_id": "7eba80f6441b448db2603033cd514bf2",
       "version_major": 2,
       "version_minor": 0
      },
      "text/plain": [
       "HBox(children=(FloatProgress(value=0.0, max=15.0), HTML(value='')))"
      ]
     },
     "metadata": {},
     "output_type": "display_data"
    },
    {
     "name": "stdout",
     "output_type": "stream",
     "text": [
      "\n",
      "Test IOU: tensor(0.3383, device='cuda:0')\n",
      "Test Accuracy: tensor(0.8804, device='cuda:0')\n"
     ]
    }
   ],
   "source": [
    "def runWithTTA(net, batch):\n",
    "    with torch.no_grad():\n",
    "        net = net.cuda()\n",
    "        batch = batch.cpu().numpy()\n",
    "\n",
    "        batch2 = np.flip(batch,axis=2).copy()\n",
    "        batch3 = np.flip(batch,axis=3).copy()\n",
    "        batch4 = np.flip(np.flip(batch,axis=2) ,axis=3).copy()\n",
    "\n",
    "        batch = torch.from_numpy(batch).cuda()\n",
    "        batch2 = torch.from_numpy(batch2).cuda()\n",
    "        batch3 = torch.from_numpy(batch3).cuda()\n",
    "        batch4 = torch.from_numpy(batch4).cuda()\n",
    "\n",
    "        out1 = net(batch)[\"out\"].cpu()\n",
    "        out2 = torch.from_numpy(np.flip(net(batch2)[\"out\"].cpu().numpy(), axis=2).copy())\n",
    "        out3 = torch.from_numpy(np.flip(net(batch3)[\"out\"].cpu().numpy(), axis=3).copy())\n",
    "        out4 = torch.from_numpy(np.flip(np.flip(net(batch4)[\"out\"].cpu().numpy(), axis=3), axis=2).copy())\n",
    "        out = torch.mean(torch.stack([out1,out2,out3, out4]),dim=0)\n",
    "        return out\n",
    "    \n",
    "    \n",
    "def test_loop_tta(test_data_loader, net):\n",
    "  net = net.eval()\n",
    "  net = net.cuda()\n",
    "  count = 0\n",
    "  iou = 0\n",
    "  loss = 0\n",
    "  accuracy = 0\n",
    "  with torch.no_grad():\n",
    "      for (images, labels) in tqdm(test_data_loader):\n",
    "          net = net.cuda()\n",
    "          outputs = runWithTTA(net, images.cuda()).cuda()\n",
    "          valid_loss = criterion(outputs, labels.long().cuda())\n",
    "          valid_iou = computeIOU(outputs, labels.cuda())\n",
    "          iou += valid_iou\n",
    "          accuracy += computeAccuracy(outputs, labels.cuda())\n",
    "          count += 1\n",
    "\n",
    "  iou = iou / count\n",
    "  print(\"Test IOU:\", iou)\n",
    "  print(\"Test Accuracy:\", accuracy / count)\n",
    "\n",
    "test_loop_tta(bolivia_loader, net)"
   ]
  },
  {
   "cell_type": "code",
   "execution_count": null,
   "metadata": {},
   "outputs": [],
   "source": []
  }
 ],
 "metadata": {
  "accelerator": "GPU",
  "colab": {
   "authorship_tag": "ABX9TyMf48pVkyLxuYqUrzgjC1Nw",
   "collapsed_sections": [],
   "include_colab_link": true,
   "machine_shape": "hm",
   "name": "Main Training Stuff.ipynb",
   "provenance": []
  },
  "kernelspec": {
   "display_name": "Python 3",
   "language": "python",
   "name": "python3"
  },
  "language_info": {
   "codemirror_mode": {
    "name": "ipython",
    "version": 3
   },
   "file_extension": ".py",
   "mimetype": "text/x-python",
   "name": "python",
   "nbconvert_exporter": "python",
   "pygments_lexer": "ipython3",
   "version": "3.7.6"
  },
  "widgets": {
   "application/vnd.jupyter.widget-state+json": {
    "0a5bf508b6b44bee8ce55182e0af6fec": {
     "model_module": "@jupyter-widgets/controls",
     "model_name": "IntProgressModel",
     "state": {
      "_dom_classes": [],
      "_model_module": "@jupyter-widgets/controls",
      "_model_module_version": "1.5.0",
      "_model_name": "IntProgressModel",
      "_view_count": null,
      "_view_module": "@jupyter-widgets/controls",
      "_view_module_version": "1.5.0",
      "_view_name": "ProgressView",
      "bar_style": "",
      "description": "",
      "description_tooltip": null,
      "layout": "IPY_MODEL_f93cc6f609e94593a6b7133ae868285e",
      "max": 2,
      "min": 0,
      "orientation": "horizontal",
      "style": "IPY_MODEL_8a35991cccc84d0494384ac2c018727c",
      "value": 0
     }
    },
    "1c740a2079f04eb1b1c3586cf060087a": {
     "model_module": "@jupyter-widgets/base",
     "model_name": "LayoutModel",
     "state": {
      "_model_module": "@jupyter-widgets/base",
      "_model_module_version": "1.2.0",
      "_model_name": "LayoutModel",
      "_view_count": null,
      "_view_module": "@jupyter-widgets/base",
      "_view_module_version": "1.2.0",
      "_view_name": "LayoutView",
      "align_content": null,
      "align_items": null,
      "align_self": null,
      "border": null,
      "bottom": null,
      "display": null,
      "flex": null,
      "flex_flow": null,
      "grid_area": null,
      "grid_auto_columns": null,
      "grid_auto_flow": null,
      "grid_auto_rows": null,
      "grid_column": null,
      "grid_gap": null,
      "grid_row": null,
      "grid_template_areas": null,
      "grid_template_columns": null,
      "grid_template_rows": null,
      "height": null,
      "justify_content": null,
      "justify_items": null,
      "left": null,
      "margin": null,
      "max_height": null,
      "max_width": null,
      "min_height": null,
      "min_width": null,
      "object_fit": null,
      "object_position": null,
      "order": null,
      "overflow": null,
      "overflow_x": null,
      "overflow_y": null,
      "padding": null,
      "right": null,
      "top": null,
      "visibility": null,
      "width": null
     }
    },
    "25fb338b9ebb4053ac0218c253389a46": {
     "model_module": "@jupyter-widgets/base",
     "model_name": "LayoutModel",
     "state": {
      "_model_module": "@jupyter-widgets/base",
      "_model_module_version": "1.2.0",
      "_model_name": "LayoutModel",
      "_view_count": null,
      "_view_module": "@jupyter-widgets/base",
      "_view_module_version": "1.2.0",
      "_view_name": "LayoutView",
      "align_content": null,
      "align_items": null,
      "align_self": null,
      "border": null,
      "bottom": null,
      "display": null,
      "flex": null,
      "flex_flow": null,
      "grid_area": null,
      "grid_auto_columns": null,
      "grid_auto_flow": null,
      "grid_auto_rows": null,
      "grid_column": null,
      "grid_gap": null,
      "grid_row": null,
      "grid_template_areas": null,
      "grid_template_columns": null,
      "grid_template_rows": null,
      "height": null,
      "justify_content": null,
      "justify_items": null,
      "left": null,
      "margin": null,
      "max_height": null,
      "max_width": null,
      "min_height": null,
      "min_width": null,
      "object_fit": null,
      "object_position": null,
      "order": null,
      "overflow": null,
      "overflow_x": null,
      "overflow_y": null,
      "padding": null,
      "right": null,
      "top": null,
      "visibility": null,
      "width": null
     }
    },
    "44ca7d253a0c46b3b704fe67a70c52eb": {
     "model_module": "@jupyter-widgets/controls",
     "model_name": "IntProgressModel",
     "state": {
      "_dom_classes": [],
      "_model_module": "@jupyter-widgets/controls",
      "_model_module_version": "1.5.0",
      "_model_name": "IntProgressModel",
      "_view_count": null,
      "_view_module": "@jupyter-widgets/controls",
      "_view_module_version": "1.5.0",
      "_view_name": "ProgressView",
      "bar_style": "",
      "description": "",
      "description_tooltip": null,
      "layout": "IPY_MODEL_84eab0bbbc3d46e89df8e66cc3134be4",
      "max": 13,
      "min": 0,
      "orientation": "horizontal",
      "style": "IPY_MODEL_ca76bbb74d4d45bc8a7ac4e1b5466e1b",
      "value": 11
     }
    },
    "51b4002a832f4754b087443f75d3c97f": {
     "model_module": "@jupyter-widgets/controls",
     "model_name": "HTMLModel",
     "state": {
      "_dom_classes": [],
      "_model_module": "@jupyter-widgets/controls",
      "_model_module_version": "1.5.0",
      "_model_name": "HTMLModel",
      "_view_count": null,
      "_view_module": "@jupyter-widgets/controls",
      "_view_module_version": "1.5.0",
      "_view_name": "HTMLView",
      "description": "",
      "description_tooltip": null,
      "layout": "IPY_MODEL_ccd281b6c8104e4fa01533165fbb2ea0",
      "placeholder": "​",
      "style": "IPY_MODEL_b9ec39f9a47248928f102018e2e0f116",
      "value": "  0% 0/2 [00:00&lt;?, ?it/s]"
     }
    },
    "52308f87ad3d46a885815de01d2a8402": {
     "model_module": "@jupyter-widgets/controls",
     "model_name": "HBoxModel",
     "state": {
      "_dom_classes": [],
      "_model_module": "@jupyter-widgets/controls",
      "_model_module_version": "1.5.0",
      "_model_name": "HBoxModel",
      "_view_count": null,
      "_view_module": "@jupyter-widgets/controls",
      "_view_module_version": "1.5.0",
      "_view_name": "HBoxView",
      "box_style": "",
      "children": [
       "IPY_MODEL_fa7fbb20e21748568096c1aa226bf09d",
       "IPY_MODEL_65bfba0c282c4de2a8c7c738431f617f"
      ],
      "layout": "IPY_MODEL_1c740a2079f04eb1b1c3586cf060087a"
     }
    },
    "65bfba0c282c4de2a8c7c738431f617f": {
     "model_module": "@jupyter-widgets/controls",
     "model_name": "HTMLModel",
     "state": {
      "_dom_classes": [],
      "_model_module": "@jupyter-widgets/controls",
      "_model_module_version": "1.5.0",
      "_model_name": "HTMLModel",
      "_view_count": null,
      "_view_module": "@jupyter-widgets/controls",
      "_view_module_version": "1.5.0",
      "_view_name": "HTMLView",
      "description": "",
      "description_tooltip": null,
      "layout": "IPY_MODEL_a22b328f55be4871929c1bf872887814",
      "placeholder": "​",
      "style": "IPY_MODEL_67a9b7f67a274e1ca75dc8ea9c72e3b1",
      "value": "100% 130/130 [00:09&lt;00:00, 14.10it/s]"
     }
    },
    "67a9b7f67a274e1ca75dc8ea9c72e3b1": {
     "model_module": "@jupyter-widgets/controls",
     "model_name": "DescriptionStyleModel",
     "state": {
      "_model_module": "@jupyter-widgets/controls",
      "_model_module_version": "1.5.0",
      "_model_name": "DescriptionStyleModel",
      "_view_count": null,
      "_view_module": "@jupyter-widgets/base",
      "_view_module_version": "1.2.0",
      "_view_name": "StyleView",
      "description_width": ""
     }
    },
    "785c07b1622a42648b66c6ce1ddf593f": {
     "model_module": "@jupyter-widgets/base",
     "model_name": "LayoutModel",
     "state": {
      "_model_module": "@jupyter-widgets/base",
      "_model_module_version": "1.2.0",
      "_model_name": "LayoutModel",
      "_view_count": null,
      "_view_module": "@jupyter-widgets/base",
      "_view_module_version": "1.2.0",
      "_view_name": "LayoutView",
      "align_content": null,
      "align_items": null,
      "align_self": null,
      "border": null,
      "bottom": null,
      "display": null,
      "flex": null,
      "flex_flow": null,
      "grid_area": null,
      "grid_auto_columns": null,
      "grid_auto_flow": null,
      "grid_auto_rows": null,
      "grid_column": null,
      "grid_gap": null,
      "grid_row": null,
      "grid_template_areas": null,
      "grid_template_columns": null,
      "grid_template_rows": null,
      "height": null,
      "justify_content": null,
      "justify_items": null,
      "left": null,
      "margin": null,
      "max_height": null,
      "max_width": null,
      "min_height": null,
      "min_width": null,
      "object_fit": null,
      "object_position": null,
      "order": null,
      "overflow": null,
      "overflow_x": null,
      "overflow_y": null,
      "padding": null,
      "right": null,
      "top": null,
      "visibility": null,
      "width": null
     }
    },
    "82300de7ef9c4460886669b056253500": {
     "model_module": "@jupyter-widgets/base",
     "model_name": "LayoutModel",
     "state": {
      "_model_module": "@jupyter-widgets/base",
      "_model_module_version": "1.2.0",
      "_model_name": "LayoutModel",
      "_view_count": null,
      "_view_module": "@jupyter-widgets/base",
      "_view_module_version": "1.2.0",
      "_view_name": "LayoutView",
      "align_content": null,
      "align_items": null,
      "align_self": null,
      "border": null,
      "bottom": null,
      "display": null,
      "flex": null,
      "flex_flow": null,
      "grid_area": null,
      "grid_auto_columns": null,
      "grid_auto_flow": null,
      "grid_auto_rows": null,
      "grid_column": null,
      "grid_gap": null,
      "grid_row": null,
      "grid_template_areas": null,
      "grid_template_columns": null,
      "grid_template_rows": null,
      "height": null,
      "justify_content": null,
      "justify_items": null,
      "left": null,
      "margin": null,
      "max_height": null,
      "max_width": null,
      "min_height": null,
      "min_width": null,
      "object_fit": null,
      "object_position": null,
      "order": null,
      "overflow": null,
      "overflow_x": null,
      "overflow_y": null,
      "padding": null,
      "right": null,
      "top": null,
      "visibility": null,
      "width": null
     }
    },
    "84eab0bbbc3d46e89df8e66cc3134be4": {
     "model_module": "@jupyter-widgets/base",
     "model_name": "LayoutModel",
     "state": {
      "_model_module": "@jupyter-widgets/base",
      "_model_module_version": "1.2.0",
      "_model_name": "LayoutModel",
      "_view_count": null,
      "_view_module": "@jupyter-widgets/base",
      "_view_module_version": "1.2.0",
      "_view_name": "LayoutView",
      "align_content": null,
      "align_items": null,
      "align_self": null,
      "border": null,
      "bottom": null,
      "display": null,
      "flex": null,
      "flex_flow": null,
      "grid_area": null,
      "grid_auto_columns": null,
      "grid_auto_flow": null,
      "grid_auto_rows": null,
      "grid_column": null,
      "grid_gap": null,
      "grid_row": null,
      "grid_template_areas": null,
      "grid_template_columns": null,
      "grid_template_rows": null,
      "height": null,
      "justify_content": null,
      "justify_items": null,
      "left": null,
      "margin": null,
      "max_height": null,
      "max_width": null,
      "min_height": null,
      "min_width": null,
      "object_fit": null,
      "object_position": null,
      "order": null,
      "overflow": null,
      "overflow_x": null,
      "overflow_y": null,
      "padding": null,
      "right": null,
      "top": null,
      "visibility": null,
      "width": null
     }
    },
    "8a35991cccc84d0494384ac2c018727c": {
     "model_module": "@jupyter-widgets/controls",
     "model_name": "ProgressStyleModel",
     "state": {
      "_model_module": "@jupyter-widgets/controls",
      "_model_module_version": "1.5.0",
      "_model_name": "ProgressStyleModel",
      "_view_count": null,
      "_view_module": "@jupyter-widgets/base",
      "_view_module_version": "1.2.0",
      "_view_name": "StyleView",
      "bar_color": null,
      "description_width": ""
     }
    },
    "8c714337e16c446281218656cb330d37": {
     "model_module": "@jupyter-widgets/controls",
     "model_name": "HBoxModel",
     "state": {
      "_dom_classes": [],
      "_model_module": "@jupyter-widgets/controls",
      "_model_module_version": "1.5.0",
      "_model_name": "HBoxModel",
      "_view_count": null,
      "_view_module": "@jupyter-widgets/controls",
      "_view_module_version": "1.5.0",
      "_view_name": "HBoxView",
      "box_style": "",
      "children": [
       "IPY_MODEL_44ca7d253a0c46b3b704fe67a70c52eb",
       "IPY_MODEL_cca70317fa824574aa562d981391c46f"
      ],
      "layout": "IPY_MODEL_82300de7ef9c4460886669b056253500"
     }
    },
    "a22b328f55be4871929c1bf872887814": {
     "model_module": "@jupyter-widgets/base",
     "model_name": "LayoutModel",
     "state": {
      "_model_module": "@jupyter-widgets/base",
      "_model_module_version": "1.2.0",
      "_model_name": "LayoutModel",
      "_view_count": null,
      "_view_module": "@jupyter-widgets/base",
      "_view_module_version": "1.2.0",
      "_view_name": "LayoutView",
      "align_content": null,
      "align_items": null,
      "align_self": null,
      "border": null,
      "bottom": null,
      "display": null,
      "flex": null,
      "flex_flow": null,
      "grid_area": null,
      "grid_auto_columns": null,
      "grid_auto_flow": null,
      "grid_auto_rows": null,
      "grid_column": null,
      "grid_gap": null,
      "grid_row": null,
      "grid_template_areas": null,
      "grid_template_columns": null,
      "grid_template_rows": null,
      "height": null,
      "justify_content": null,
      "justify_items": null,
      "left": null,
      "margin": null,
      "max_height": null,
      "max_width": null,
      "min_height": null,
      "min_width": null,
      "object_fit": null,
      "object_position": null,
      "order": null,
      "overflow": null,
      "overflow_x": null,
      "overflow_y": null,
      "padding": null,
      "right": null,
      "top": null,
      "visibility": null,
      "width": null
     }
    },
    "b9ec39f9a47248928f102018e2e0f116": {
     "model_module": "@jupyter-widgets/controls",
     "model_name": "DescriptionStyleModel",
     "state": {
      "_model_module": "@jupyter-widgets/controls",
      "_model_module_version": "1.5.0",
      "_model_name": "DescriptionStyleModel",
      "_view_count": null,
      "_view_module": "@jupyter-widgets/base",
      "_view_module_version": "1.2.0",
      "_view_name": "StyleView",
      "description_width": ""
     }
    },
    "bb6710d665f64746a816abac2cb6ad1a": {
     "model_module": "@jupyter-widgets/controls",
     "model_name": "ProgressStyleModel",
     "state": {
      "_model_module": "@jupyter-widgets/controls",
      "_model_module_version": "1.5.0",
      "_model_name": "ProgressStyleModel",
      "_view_count": null,
      "_view_module": "@jupyter-widgets/base",
      "_view_module_version": "1.2.0",
      "_view_name": "StyleView",
      "bar_color": null,
      "description_width": ""
     }
    },
    "c071047b9b5b420dbb5233397841a7b5": {
     "model_module": "@jupyter-widgets/base",
     "model_name": "LayoutModel",
     "state": {
      "_model_module": "@jupyter-widgets/base",
      "_model_module_version": "1.2.0",
      "_model_name": "LayoutModel",
      "_view_count": null,
      "_view_module": "@jupyter-widgets/base",
      "_view_module_version": "1.2.0",
      "_view_name": "LayoutView",
      "align_content": null,
      "align_items": null,
      "align_self": null,
      "border": null,
      "bottom": null,
      "display": null,
      "flex": null,
      "flex_flow": null,
      "grid_area": null,
      "grid_auto_columns": null,
      "grid_auto_flow": null,
      "grid_auto_rows": null,
      "grid_column": null,
      "grid_gap": null,
      "grid_row": null,
      "grid_template_areas": null,
      "grid_template_columns": null,
      "grid_template_rows": null,
      "height": null,
      "justify_content": null,
      "justify_items": null,
      "left": null,
      "margin": null,
      "max_height": null,
      "max_width": null,
      "min_height": null,
      "min_width": null,
      "object_fit": null,
      "object_position": null,
      "order": null,
      "overflow": null,
      "overflow_x": null,
      "overflow_y": null,
      "padding": null,
      "right": null,
      "top": null,
      "visibility": null,
      "width": null
     }
    },
    "ca76bbb74d4d45bc8a7ac4e1b5466e1b": {
     "model_module": "@jupyter-widgets/controls",
     "model_name": "ProgressStyleModel",
     "state": {
      "_model_module": "@jupyter-widgets/controls",
      "_model_module_version": "1.5.0",
      "_model_name": "ProgressStyleModel",
      "_view_count": null,
      "_view_module": "@jupyter-widgets/base",
      "_view_module_version": "1.2.0",
      "_view_name": "StyleView",
      "bar_color": null,
      "description_width": ""
     }
    },
    "cca70317fa824574aa562d981391c46f": {
     "model_module": "@jupyter-widgets/controls",
     "model_name": "HTMLModel",
     "state": {
      "_dom_classes": [],
      "_model_module": "@jupyter-widgets/controls",
      "_model_module_version": "1.5.0",
      "_model_name": "HTMLModel",
      "_view_count": null,
      "_view_module": "@jupyter-widgets/controls",
      "_view_module_version": "1.5.0",
      "_view_name": "HTMLView",
      "description": "",
      "description_tooltip": null,
      "layout": "IPY_MODEL_c071047b9b5b420dbb5233397841a7b5",
      "placeholder": "​",
      "style": "IPY_MODEL_e5e4e39f80ff4ff4b1e2e723d71e64fa",
      "value": " 85% 11/13 [00:19&lt;00:03,  1.79s/it]"
     }
    },
    "ccd281b6c8104e4fa01533165fbb2ea0": {
     "model_module": "@jupyter-widgets/base",
     "model_name": "LayoutModel",
     "state": {
      "_model_module": "@jupyter-widgets/base",
      "_model_module_version": "1.2.0",
      "_model_name": "LayoutModel",
      "_view_count": null,
      "_view_module": "@jupyter-widgets/base",
      "_view_module_version": "1.2.0",
      "_view_name": "LayoutView",
      "align_content": null,
      "align_items": null,
      "align_self": null,
      "border": null,
      "bottom": null,
      "display": null,
      "flex": null,
      "flex_flow": null,
      "grid_area": null,
      "grid_auto_columns": null,
      "grid_auto_flow": null,
      "grid_auto_rows": null,
      "grid_column": null,
      "grid_gap": null,
      "grid_row": null,
      "grid_template_areas": null,
      "grid_template_columns": null,
      "grid_template_rows": null,
      "height": null,
      "justify_content": null,
      "justify_items": null,
      "left": null,
      "margin": null,
      "max_height": null,
      "max_width": null,
      "min_height": null,
      "min_width": null,
      "object_fit": null,
      "object_position": null,
      "order": null,
      "overflow": null,
      "overflow_x": null,
      "overflow_y": null,
      "padding": null,
      "right": null,
      "top": null,
      "visibility": null,
      "width": null
     }
    },
    "e5e4e39f80ff4ff4b1e2e723d71e64fa": {
     "model_module": "@jupyter-widgets/controls",
     "model_name": "DescriptionStyleModel",
     "state": {
      "_model_module": "@jupyter-widgets/controls",
      "_model_module_version": "1.5.0",
      "_model_name": "DescriptionStyleModel",
      "_view_count": null,
      "_view_module": "@jupyter-widgets/base",
      "_view_module_version": "1.2.0",
      "_view_name": "StyleView",
      "description_width": ""
     }
    },
    "ed787105fcaa4c3c812a76c4c603d5f5": {
     "model_module": "@jupyter-widgets/controls",
     "model_name": "HBoxModel",
     "state": {
      "_dom_classes": [],
      "_model_module": "@jupyter-widgets/controls",
      "_model_module_version": "1.5.0",
      "_model_name": "HBoxModel",
      "_view_count": null,
      "_view_module": "@jupyter-widgets/controls",
      "_view_module_version": "1.5.0",
      "_view_name": "HBoxView",
      "box_style": "",
      "children": [
       "IPY_MODEL_0a5bf508b6b44bee8ce55182e0af6fec",
       "IPY_MODEL_51b4002a832f4754b087443f75d3c97f"
      ],
      "layout": "IPY_MODEL_25fb338b9ebb4053ac0218c253389a46"
     }
    },
    "f93cc6f609e94593a6b7133ae868285e": {
     "model_module": "@jupyter-widgets/base",
     "model_name": "LayoutModel",
     "state": {
      "_model_module": "@jupyter-widgets/base",
      "_model_module_version": "1.2.0",
      "_model_name": "LayoutModel",
      "_view_count": null,
      "_view_module": "@jupyter-widgets/base",
      "_view_module_version": "1.2.0",
      "_view_name": "LayoutView",
      "align_content": null,
      "align_items": null,
      "align_self": null,
      "border": null,
      "bottom": null,
      "display": null,
      "flex": null,
      "flex_flow": null,
      "grid_area": null,
      "grid_auto_columns": null,
      "grid_auto_flow": null,
      "grid_auto_rows": null,
      "grid_column": null,
      "grid_gap": null,
      "grid_row": null,
      "grid_template_areas": null,
      "grid_template_columns": null,
      "grid_template_rows": null,
      "height": null,
      "justify_content": null,
      "justify_items": null,
      "left": null,
      "margin": null,
      "max_height": null,
      "max_width": null,
      "min_height": null,
      "min_width": null,
      "object_fit": null,
      "object_position": null,
      "order": null,
      "overflow": null,
      "overflow_x": null,
      "overflow_y": null,
      "padding": null,
      "right": null,
      "top": null,
      "visibility": null,
      "width": null
     }
    },
    "fa7fbb20e21748568096c1aa226bf09d": {
     "model_module": "@jupyter-widgets/controls",
     "model_name": "IntProgressModel",
     "state": {
      "_dom_classes": [],
      "_model_module": "@jupyter-widgets/controls",
      "_model_module_version": "1.5.0",
      "_model_name": "IntProgressModel",
      "_view_count": null,
      "_view_module": "@jupyter-widgets/controls",
      "_view_module_version": "1.5.0",
      "_view_name": "ProgressView",
      "bar_style": "success",
      "description": "",
      "description_tooltip": null,
      "layout": "IPY_MODEL_785c07b1622a42648b66c6ce1ddf593f",
      "max": 130,
      "min": 0,
      "orientation": "horizontal",
      "style": "IPY_MODEL_bb6710d665f64746a816abac2cb6ad1a",
      "value": 130
     }
    }
   }
  }
 },
 "nbformat": 4,
 "nbformat_minor": 4
}
